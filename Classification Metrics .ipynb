{
 "cells": [
  {
   "cell_type": "markdown",
   "id": "8e2f88da",
   "metadata": {},
   "source": [
    "# Accuracy, Confusion Matrix, Precision, Recall, F1 score, AUC & ROC"
   ]
  },
  {
   "cell_type": "markdown",
   "id": "53344438",
   "metadata": {},
   "source": [
    "Confusion matrices are the result of classification problems. There are four possible values that make up the result: True Positive, False Negative, False Positive, and True Negative."
   ]
  },
  {
   "cell_type": "markdown",
   "id": "57c40c50",
   "metadata": {},
   "source": [
    "![](cm1.png)"
   ]
  },
  {
   "cell_type": "markdown",
   "id": "3b0f6f7a",
   "metadata": {},
   "source": [
    "- True Positive — these are cases in which the classification model created correctly predicted positive.\n",
    "- False Negative — these are cases in which the classification model predicted false, but are actually positive. These are also considered Type II errors.\n",
    "- False Positive — these are the cases in which the classification model predicted positive, but are actually negative. These are also considered Type I errors.\n",
    "- True Negative — these are the cases in which the classification model correctly predicted negative.\n",
    "\n",
    "-------------------------------------------------"
   ]
  },
  {
   "cell_type": "markdown",
   "id": "8dfeeffc",
   "metadata": {},
   "source": [
    "- Sensitivity  (Recall) — also known as the True Positive Rate or Recall. Outcomes that are correctly predicted as positive.\n",
    "- Specificity — also known as the True Negative Rate. Outcomes that are correctly predicted as negative.\n",
    "- Accuracy — Outcomes that are correctly labeled at true. it's not compulsory that a good result. Many times data imbalanced problem. Than we use Precision and Recall.\n",
    "- Negative Predictive Value — Outcomes that are correctly labeled as false.\n",
    "- Precision — Outcomes that are correctly predicted positive."
   ]
  },
  {
   "cell_type": "markdown",
   "id": "6b017f44",
   "metadata": {},
   "source": [
    "When use Precision and Recall?\n",
    " - If the negative samples are important, we should focus on precision. Otherwise, we should focus on recall.\n",
    "\n",
    "- However, as to F1-score, the value higher, the model is better."
   ]
  },
  {
   "cell_type": "markdown",
   "id": "44b6e5d0",
   "metadata": {},
   "source": [
    "![](cm2.png)"
   ]
  },
  {
   "cell_type": "code",
   "execution_count": 1,
   "id": "cf66610e",
   "metadata": {},
   "outputs": [],
   "source": [
    "import pandas as pd"
   ]
  },
  {
   "cell_type": "code",
   "execution_count": 3,
   "id": "279e30eb",
   "metadata": {},
   "outputs": [],
   "source": [
    "df = pd.read_csv('hotel_booking.csv')"
   ]
  },
  {
   "cell_type": "code",
   "execution_count": 5,
   "id": "4631b5ad",
   "metadata": {},
   "outputs": [
    {
     "data": {
      "text/html": [
       "<div>\n",
       "<style scoped>\n",
       "    .dataframe tbody tr th:only-of-type {\n",
       "        vertical-align: middle;\n",
       "    }\n",
       "\n",
       "    .dataframe tbody tr th {\n",
       "        vertical-align: top;\n",
       "    }\n",
       "\n",
       "    .dataframe thead th {\n",
       "        text-align: right;\n",
       "    }\n",
       "</style>\n",
       "<table border=\"1\" class=\"dataframe\">\n",
       "  <thead>\n",
       "    <tr style=\"text-align: right;\">\n",
       "      <th></th>\n",
       "      <th>hotel</th>\n",
       "      <th>is_canceled</th>\n",
       "      <th>lead_time</th>\n",
       "      <th>arrival_date_year</th>\n",
       "      <th>arrival_date_month</th>\n",
       "      <th>arrival_date_week_number</th>\n",
       "      <th>arrival_date_day_of_month</th>\n",
       "      <th>stays_in_weekend_nights</th>\n",
       "      <th>stays_in_week_nights</th>\n",
       "      <th>adults</th>\n",
       "      <th>...</th>\n",
       "      <th>customer_type</th>\n",
       "      <th>adr</th>\n",
       "      <th>required_car_parking_spaces</th>\n",
       "      <th>total_of_special_requests</th>\n",
       "      <th>reservation_status</th>\n",
       "      <th>reservation_status_date</th>\n",
       "      <th>name</th>\n",
       "      <th>email</th>\n",
       "      <th>phone-number</th>\n",
       "      <th>credit_card</th>\n",
       "    </tr>\n",
       "  </thead>\n",
       "  <tbody>\n",
       "    <tr>\n",
       "      <th>11420</th>\n",
       "      <td>Resort Hotel</td>\n",
       "      <td>1</td>\n",
       "      <td>86</td>\n",
       "      <td>2017</td>\n",
       "      <td>May</td>\n",
       "      <td>18</td>\n",
       "      <td>6</td>\n",
       "      <td>4</td>\n",
       "      <td>6</td>\n",
       "      <td>2</td>\n",
       "      <td>...</td>\n",
       "      <td>Transient</td>\n",
       "      <td>155.0</td>\n",
       "      <td>0</td>\n",
       "      <td>1</td>\n",
       "      <td>Canceled</td>\n",
       "      <td>2017-02-11</td>\n",
       "      <td>Charles Holmes</td>\n",
       "      <td>Charles_Holmes50@hotmail.com</td>\n",
       "      <td>632-328-6363</td>\n",
       "      <td>************1022</td>\n",
       "    </tr>\n",
       "  </tbody>\n",
       "</table>\n",
       "<p>1 rows × 36 columns</p>\n",
       "</div>"
      ],
      "text/plain": [
       "              hotel  is_canceled  lead_time  arrival_date_year  \\\n",
       "11420  Resort Hotel            1         86               2017   \n",
       "\n",
       "      arrival_date_month  arrival_date_week_number  arrival_date_day_of_month  \\\n",
       "11420                May                        18                          6   \n",
       "\n",
       "       stays_in_weekend_nights  stays_in_week_nights  adults  ...  \\\n",
       "11420                        4                     6       2  ...   \n",
       "\n",
       "       customer_type    adr required_car_parking_spaces  \\\n",
       "11420      Transient  155.0                           0   \n",
       "\n",
       "      total_of_special_requests reservation_status reservation_status_date  \\\n",
       "11420                         1           Canceled              2017-02-11   \n",
       "\n",
       "                 name                         email  phone-number  \\\n",
       "11420  Charles Holmes  Charles_Holmes50@hotmail.com  632-328-6363   \n",
       "\n",
       "            credit_card  \n",
       "11420  ************1022  \n",
       "\n",
       "[1 rows x 36 columns]"
      ]
     },
     "execution_count": 5,
     "metadata": {},
     "output_type": "execute_result"
    }
   ],
   "source": [
    "df.sample()"
   ]
  },
  {
   "cell_type": "code",
   "execution_count": 6,
   "id": "80b09233",
   "metadata": {},
   "outputs": [
    {
     "data": {
      "text/plain": [
       "(119390, 36)"
      ]
     },
     "execution_count": 6,
     "metadata": {},
     "output_type": "execute_result"
    }
   ],
   "source": [
    "df.shape"
   ]
  },
  {
   "cell_type": "code",
   "execution_count": 7,
   "id": "37b173dd",
   "metadata": {},
   "outputs": [
    {
     "data": {
      "text/plain": [
       "Index(['hotel', 'is_canceled', 'lead_time', 'arrival_date_year',\n",
       "       'arrival_date_month', 'arrival_date_week_number',\n",
       "       'arrival_date_day_of_month', 'stays_in_weekend_nights',\n",
       "       'stays_in_week_nights', 'adults', 'children', 'babies', 'meal',\n",
       "       'country', 'market_segment', 'distribution_channel',\n",
       "       'is_repeated_guest', 'previous_cancellations',\n",
       "       'previous_bookings_not_canceled', 'reserved_room_type',\n",
       "       'assigned_room_type', 'booking_changes', 'deposit_type', 'agent',\n",
       "       'company', 'days_in_waiting_list', 'customer_type', 'adr',\n",
       "       'required_car_parking_spaces', 'total_of_special_requests',\n",
       "       'reservation_status', 'reservation_status_date', 'name', 'email',\n",
       "       'phone-number', 'credit_card'],\n",
       "      dtype='object')"
      ]
     },
     "execution_count": 7,
     "metadata": {},
     "output_type": "execute_result"
    }
   ],
   "source": [
    "df.columns"
   ]
  },
  {
   "cell_type": "code",
   "execution_count": 8,
   "id": "a5157fb2",
   "metadata": {},
   "outputs": [],
   "source": [
    "# Deleting unuseful columns\n",
    "df = df.drop(['days_in_waiting_list', 'arrival_date_year', 'assigned_room_type', 'booking_changes',\n",
    "               'reservation_status', 'country', 'days_in_waiting_list','name', 'email','phone-number', 'credit_card'],axis=1)"
   ]
  },
  {
   "cell_type": "code",
   "execution_count": 9,
   "id": "4363cdd8",
   "metadata": {},
   "outputs": [
    {
     "data": {
      "text/plain": [
       "(119390, 26)"
      ]
     },
     "execution_count": 9,
     "metadata": {},
     "output_type": "execute_result"
    }
   ],
   "source": [
    "df.shape"
   ]
  },
  {
   "cell_type": "code",
   "execution_count": 10,
   "id": "74999e74",
   "metadata": {},
   "outputs": [
    {
     "data": {
      "text/plain": [
       "hotel                                  0\n",
       "is_canceled                            0\n",
       "lead_time                              0\n",
       "arrival_date_month                     0\n",
       "arrival_date_week_number               0\n",
       "arrival_date_day_of_month              0\n",
       "stays_in_weekend_nights                0\n",
       "stays_in_week_nights                   0\n",
       "adults                                 0\n",
       "children                               4\n",
       "babies                                 0\n",
       "meal                                   0\n",
       "market_segment                         0\n",
       "distribution_channel                   0\n",
       "is_repeated_guest                      0\n",
       "previous_cancellations                 0\n",
       "previous_bookings_not_canceled         0\n",
       "reserved_room_type                     0\n",
       "deposit_type                           0\n",
       "agent                              16340\n",
       "company                           112593\n",
       "customer_type                          0\n",
       "adr                                    0\n",
       "required_car_parking_spaces            0\n",
       "total_of_special_requests              0\n",
       "reservation_status_date                0\n",
       "dtype: int64"
      ]
     },
     "execution_count": 10,
     "metadata": {},
     "output_type": "execute_result"
    }
   ],
   "source": [
    "df.isnull().sum()"
   ]
  },
  {
   "cell_type": "code",
   "execution_count": 11,
   "id": "d600f6b5",
   "metadata": {},
   "outputs": [],
   "source": [
    "df = df.bfill().ffill()"
   ]
  },
  {
   "cell_type": "code",
   "execution_count": 12,
   "id": "b62587ed",
   "metadata": {},
   "outputs": [
    {
     "data": {
      "text/plain": [
       "hotel                              object\n",
       "is_canceled                         int64\n",
       "lead_time                           int64\n",
       "arrival_date_month                 object\n",
       "arrival_date_week_number            int64\n",
       "arrival_date_day_of_month           int64\n",
       "stays_in_weekend_nights             int64\n",
       "stays_in_week_nights                int64\n",
       "adults                              int64\n",
       "children                          float64\n",
       "babies                              int64\n",
       "meal                               object\n",
       "market_segment                     object\n",
       "distribution_channel               object\n",
       "is_repeated_guest                   int64\n",
       "previous_cancellations              int64\n",
       "previous_bookings_not_canceled      int64\n",
       "reserved_room_type                 object\n",
       "deposit_type                       object\n",
       "agent                             float64\n",
       "company                           float64\n",
       "customer_type                      object\n",
       "adr                               float64\n",
       "required_car_parking_spaces         int64\n",
       "total_of_special_requests           int64\n",
       "reservation_status_date            object\n",
       "dtype: object"
      ]
     },
     "execution_count": 12,
     "metadata": {},
     "output_type": "execute_result"
    }
   ],
   "source": [
    "df.dtypes"
   ]
  },
  {
   "cell_type": "code",
   "execution_count": 13,
   "id": "9db4de2d",
   "metadata": {},
   "outputs": [],
   "source": [
    "l = []\n",
    "for i in df.columns:\n",
    "    if df[i].dtypes =='O':\n",
    "        l.append(i)"
   ]
  },
  {
   "cell_type": "code",
   "execution_count": 14,
   "id": "17c4cd54",
   "metadata": {},
   "outputs": [],
   "source": [
    "from sklearn.preprocessing import LabelEncoder\n",
    "le = LabelEncoder()\n",
    "for i in l:\n",
    "    df[i] = le.fit_transform(df[i])"
   ]
  },
  {
   "cell_type": "code",
   "execution_count": 15,
   "id": "b6c7fbf9",
   "metadata": {},
   "outputs": [],
   "source": [
    "# df.dtypes"
   ]
  },
  {
   "cell_type": "code",
   "execution_count": 16,
   "id": "776a36ed",
   "metadata": {},
   "outputs": [],
   "source": [
    "x = df.drop('is_canceled',axis=1)\n",
    "y = df['is_canceled']"
   ]
  },
  {
   "cell_type": "code",
   "execution_count": 17,
   "id": "18212a10",
   "metadata": {},
   "outputs": [],
   "source": [
    "from sklearn.model_selection import train_test_split\n",
    "x_train,x_test,y_train,y_test = train_test_split(x,y,test_size=0.20)"
   ]
  },
  {
   "cell_type": "code",
   "execution_count": 18,
   "id": "8caba0c3",
   "metadata": {},
   "outputs": [],
   "source": [
    "from sklearn.tree import DecisionTreeClassifier\n",
    "dt = DecisionTreeClassifier()"
   ]
  },
  {
   "cell_type": "code",
   "execution_count": 19,
   "id": "0c1f842a",
   "metadata": {},
   "outputs": [
    {
     "data": {
      "text/plain": [
       "DecisionTreeClassifier()"
      ]
     },
     "execution_count": 19,
     "metadata": {},
     "output_type": "execute_result"
    }
   ],
   "source": [
    "dt.fit(x_train,y_train)"
   ]
  },
  {
   "cell_type": "code",
   "execution_count": 18,
   "id": "a26f93c6",
   "metadata": {},
   "outputs": [],
   "source": [
    "dt_pre = dt.predict(x_test)"
   ]
  },
  {
   "cell_type": "code",
   "execution_count": 19,
   "id": "0ff45133",
   "metadata": {},
   "outputs": [],
   "source": [
    "data = pd.DataFrame({'Actual Value':y_test,'Predicted Value':dt_pre})"
   ]
  },
  {
   "cell_type": "code",
   "execution_count": 20,
   "id": "b7ca0744",
   "metadata": {},
   "outputs": [
    {
     "data": {
      "text/html": [
       "<div>\n",
       "<style scoped>\n",
       "    .dataframe tbody tr th:only-of-type {\n",
       "        vertical-align: middle;\n",
       "    }\n",
       "\n",
       "    .dataframe tbody tr th {\n",
       "        vertical-align: top;\n",
       "    }\n",
       "\n",
       "    .dataframe thead th {\n",
       "        text-align: right;\n",
       "    }\n",
       "</style>\n",
       "<table border=\"1\" class=\"dataframe\">\n",
       "  <thead>\n",
       "    <tr style=\"text-align: right;\">\n",
       "      <th></th>\n",
       "      <th>Actual Value</th>\n",
       "      <th>Predicted Value</th>\n",
       "    </tr>\n",
       "  </thead>\n",
       "  <tbody>\n",
       "    <tr>\n",
       "      <th>247</th>\n",
       "      <td>1</td>\n",
       "      <td>1</td>\n",
       "    </tr>\n",
       "    <tr>\n",
       "      <th>81798</th>\n",
       "      <td>1</td>\n",
       "      <td>1</td>\n",
       "    </tr>\n",
       "    <tr>\n",
       "      <th>114200</th>\n",
       "      <td>0</td>\n",
       "      <td>0</td>\n",
       "    </tr>\n",
       "    <tr>\n",
       "      <th>110394</th>\n",
       "      <td>0</td>\n",
       "      <td>0</td>\n",
       "    </tr>\n",
       "    <tr>\n",
       "      <th>33450</th>\n",
       "      <td>0</td>\n",
       "      <td>0</td>\n",
       "    </tr>\n",
       "    <tr>\n",
       "      <th>...</th>\n",
       "      <td>...</td>\n",
       "      <td>...</td>\n",
       "    </tr>\n",
       "    <tr>\n",
       "      <th>60337</th>\n",
       "      <td>1</td>\n",
       "      <td>1</td>\n",
       "    </tr>\n",
       "    <tr>\n",
       "      <th>13293</th>\n",
       "      <td>1</td>\n",
       "      <td>1</td>\n",
       "    </tr>\n",
       "    <tr>\n",
       "      <th>50184</th>\n",
       "      <td>1</td>\n",
       "      <td>1</td>\n",
       "    </tr>\n",
       "    <tr>\n",
       "      <th>43940</th>\n",
       "      <td>1</td>\n",
       "      <td>1</td>\n",
       "    </tr>\n",
       "    <tr>\n",
       "      <th>94686</th>\n",
       "      <td>0</td>\n",
       "      <td>0</td>\n",
       "    </tr>\n",
       "  </tbody>\n",
       "</table>\n",
       "<p>23878 rows × 2 columns</p>\n",
       "</div>"
      ],
      "text/plain": [
       "        Actual Value  Predicted Value\n",
       "247                1                1\n",
       "81798              1                1\n",
       "114200             0                0\n",
       "110394             0                0\n",
       "33450              0                0\n",
       "...              ...              ...\n",
       "60337              1                1\n",
       "13293              1                1\n",
       "50184              1                1\n",
       "43940              1                1\n",
       "94686              0                0\n",
       "\n",
       "[23878 rows x 2 columns]"
      ]
     },
     "execution_count": 20,
     "metadata": {},
     "output_type": "execute_result"
    }
   ],
   "source": [
    "data"
   ]
  },
  {
   "cell_type": "code",
   "execution_count": 21,
   "id": "b79a76b2",
   "metadata": {},
   "outputs": [
    {
     "data": {
      "text/plain": [
       "0.9377669821593099"
      ]
     },
     "execution_count": 21,
     "metadata": {},
     "output_type": "execute_result"
    }
   ],
   "source": [
    "from sklearn.metrics import accuracy_score\n",
    "accuracy_score(y_test, dt_pre)"
   ]
  },
  {
   "cell_type": "code",
   "execution_count": 22,
   "id": "27c05903",
   "metadata": {},
   "outputs": [
    {
     "name": "stdout",
     "output_type": "stream",
     "text": [
      "[[14351   764]\n",
      " [  722  8041]]\n",
      "              precision    recall  f1-score   support\n",
      "\n",
      "           0       0.95      0.95      0.95     15115\n",
      "           1       0.91      0.92      0.92      8763\n",
      "\n",
      "    accuracy                           0.94     23878\n",
      "   macro avg       0.93      0.93      0.93     23878\n",
      "weighted avg       0.94      0.94      0.94     23878\n",
      "\n"
     ]
    }
   ],
   "source": [
    "from sklearn.metrics import classification_report, confusion_matrix\n",
    "cf_matrix = confusion_matrix(y_test,dt_pre)\n",
    "print(cf_matrix)\n",
    "print(classification_report(y_test,dt_pre))"
   ]
  },
  {
   "cell_type": "code",
   "execution_count": 23,
   "id": "3f12659e",
   "metadata": {},
   "outputs": [
    {
     "data": {
      "text/plain": [
       "<AxesSubplot:>"
      ]
     },
     "execution_count": 23,
     "metadata": {},
     "output_type": "execute_result"
    },
    {
     "data": {
      "image/png": "[encoded data removed]",
      "text/plain": [
       "<Figure size 432x288 with 2 Axes>"
      ]
     },
     "metadata": {
      "needs_background": "light"
     },
     "output_type": "display_data"
    }
   ],
   "source": [
    "import seaborn as sns\n",
    "sns.heatmap(cf_matrix, annot=True)"
   ]
  },
  {
   "cell_type": "code",
   "execution_count": 24,
   "id": "c6d2b918",
   "metadata": {},
   "outputs": [
    {
     "data": {
      "application/javascript": [
       "\n",
       "        if (window._pyforest_update_imports_cell) { window._pyforest_update_imports_cell('import numpy as np'); }\n",
       "    "
      ],
      "text/plain": [
       "<IPython.core.display.Javascript object>"
      ]
     },
     "metadata": {},
     "output_type": "display_data"
    },
    {
     "data": {
      "text/plain": [
       "<AxesSubplot:>"
      ]
     },
     "execution_count": 24,
     "metadata": {},
     "output_type": "execute_result"
    },
    {
     "data": {
      "image/png": "[encoded data removed]",
      "text/plain": [
       "<Figure size 432x288 with 2 Axes>"
      ]
     },
     "metadata": {
      "needs_background": "light"
     },
     "output_type": "display_data"
    }
   ],
   "source": [
    "sns.heatmap(cf_matrix/np.sum(cf_matrix), annot=True, \n",
    "            fmt='.2%', cmap='Blues')"
   ]
  },
  {
   "cell_type": "code",
   "execution_count": 25,
   "id": "17820c7a",
   "metadata": {},
   "outputs": [],
   "source": [
    "# non-binary classifier (3x3 in this case)\n",
    "\n",
    "# make_confusion_matrix(cf_matrix_3x3, figsize=(8,6), cbar=False)"
   ]
  },
  {
   "cell_type": "code",
   "execution_count": 26,
   "id": "85ae2099",
   "metadata": {},
   "outputs": [
    {
     "data": {
      "text/plain": [
       "array([14351,   764,   722,  8041], dtype=int64)"
      ]
     },
     "execution_count": 26,
     "metadata": {},
     "output_type": "execute_result"
    }
   ],
   "source": [
    "confusion = confusion_matrix(y_test, dt_pre)\n",
    "confusion.ravel() "
   ]
  },
  {
   "cell_type": "code",
   "execution_count": 27,
   "id": "0b86d386",
   "metadata": {},
   "outputs": [
    {
     "data": {
      "text/plain": [
       "(0.9132311186825667, 0.9520997810654813)"
      ]
     },
     "execution_count": 27,
     "metadata": {},
     "output_type": "execute_result"
    }
   ],
   "source": [
    "from sklearn.metrics import precision_score\n",
    "precision_positive = precision_score(y_test, dt_pre, pos_label=1)\n",
    "precision_negative = precision_score(y_test, dt_pre, pos_label=0)\n",
    "\n",
    "precision_positive, precision_negative"
   ]
  },
  {
   "cell_type": "code",
   "execution_count": 28,
   "id": "a43aabc9",
   "metadata": {},
   "outputs": [
    {
     "data": {
      "text/plain": [
       "(0.9176081250713226, 0.9494541845848495)"
      ]
     },
     "execution_count": 28,
     "metadata": {},
     "output_type": "execute_result"
    }
   ],
   "source": [
    "from sklearn.metrics import recall_score\n",
    "recall_sensitivity = recall_score(y_test, dt_pre, pos_label=1)\n",
    "recall_specificity = recall_score(y_test, dt_pre, pos_label=0)\n",
    "\n",
    "recall_sensitivity, recall_specificity "
   ]
  },
  {
   "cell_type": "code",
   "execution_count": 29,
   "id": "bd969600",
   "metadata": {},
   "outputs": [
    {
     "data": {
      "text/plain": [
       "(0.9154143897996357, 0.9507751424407049)"
      ]
     },
     "execution_count": 29,
     "metadata": {},
     "output_type": "execute_result"
    }
   ],
   "source": [
    "from sklearn.metrics import f1_score\n",
    "f1_positive = f1_score(y_test, dt_pre, pos_label=1)\n",
    "f1_negative = f1_score(y_test, dt_pre, pos_label=0)\n",
    "\n",
    "f1_positive, f1_negative "
   ]
  },
  {
   "cell_type": "code",
   "execution_count": 30,
   "id": "41c60051",
   "metadata": {},
   "outputs": [
    {
     "data": {
      "text/plain": [
       "2.149477871483121"
      ]
     },
     "execution_count": 30,
     "metadata": {},
     "output_type": "execute_result"
    }
   ],
   "source": [
    "from sklearn.metrics import log_loss\n",
    "log_loss(y_test,dt_pre)"
   ]
  },
  {
   "cell_type": "markdown",
   "id": "86efdf61",
   "metadata": {},
   "source": [
    "## AUC ROC Curve"
   ]
  },
  {
   "cell_type": "markdown",
   "id": "d46bb8c0",
   "metadata": {},
   "source": [
    "Setting different thresholds for classifying positive class for data points will inadvertently change the Sensitivity and Specificity of the model. And one of these thresholds will probably give a better result than the others, depending on whether we are aiming to lower the number of False Negatives or False Positives."
   ]
  },
  {
   "cell_type": "markdown",
   "id": "287712d8",
   "metadata": {},
   "source": [
    "![](data-1.png)"
   ]
  },
  {
   "cell_type": "markdown",
   "id": "6e28a2ac",
   "metadata": {},
   "source": [
    "The metrics change with the changing threshold values. We can generate different confusion matrices and compare the various metrics that we discussed in the previous section. But that would not be a prudent thing to do. Instead, what we can do is generate a plot between some of these metrics so that we can easily visualize which threshold is giving us a better result."
   ]
  },
  {
   "cell_type": "markdown",
   "id": "a23093be",
   "metadata": {},
   "source": [
    "The Receiver Operator Characteristic (ROC) curve is an evaluation metric for binary classification problems. It is a probability curve that plots the TPR against FPR at various threshold values and essentially separates the ‘signal’ from the ‘noise’. The Area Under the Curve (AUC) is the measure of the ability of a classifier to distinguish between classes and is used as a summary of the ROC curve."
   ]
  },
  {
   "cell_type": "markdown",
   "id": "b5adc439",
   "metadata": {},
   "source": [
    "- The higher the AUC, the better the performance of the model at distinguishing between the positive and negative classes.\n",
    "- When AUC = 1, then the classifier is able to perfectly distinguish between all the Positive and the Negative class points correctly. If, however, the AUC had been 0, then the classifier would be predicting all Negatives as Positives, and all Positives as Negatives.\n",
    "- When 0.5<AUC<1, there is a high chance that the classifier will be able to distinguish the positive class values from the negative class values. This is so because the classifier is able to detect more numbers of True positives and True negatives than False negatives and False positives.\n",
    "- When AUC=0.5, then the classifier is not able to distinguish between Positive and Negative class points. Meaning either the classifier is predicting random class or constant class for all the data points.\n",
    "\n",
    "So, the higher the AUC value for a classifier, the better its ability to distinguish between positive and negative classes."
   ]
  },
  {
   "cell_type": "code",
   "execution_count": 31,
   "id": "30c2f7c0",
   "metadata": {},
   "outputs": [
    {
     "name": "stdout",
     "output_type": "stream",
     "text": [
      "0.958249966653328 0.970432617491441\n",
      "0.958249966653328 0.970432617491441\n",
      "0.958249966653328 0.970432617491441\n"
     ]
    }
   ],
   "source": [
    "# AUC ROC Curve\n",
    "\n",
    "from sklearn.datasets import make_classification\n",
    "from sklearn.model_selection import train_test_split\n",
    "\n",
    "# generate two class dataset\n",
    "x, y = make_classification(n_samples=1000,n_classes=2,n_features=20,random_state=24)\n",
    "\n",
    "# split into train-test sets\n",
    "x_train, x_test, y_train, y_test = train_test_split(x,y,test_size=0.3,random_state=24)\n",
    "\n",
    "# train models\n",
    "from sklearn.linear_model import LogisticRegression\n",
    "from sklearn.neighbors import KNeighborsClassifier\n",
    "\n",
    "# logistic regression\n",
    "model1 = LogisticRegression()\n",
    "# knn\n",
    "model2 = KNeighborsClassifier(n_neighbors=4)\n",
    "\n",
    "# fit model\n",
    "model1.fit(x_train, y_train)\n",
    "model2.fit(x_train, y_train)\n",
    "\n",
    "# predict probabilities\n",
    "pred_prob1 = model1.predict_proba(x_test)\n",
    "pred_prob2 = model2.predict_proba(x_test)\n",
    "\n",
    "from sklearn.metrics import roc_curve\n",
    "\n",
    "# roc curve for models\n",
    "fpr1, tpr1, thresh1 = roc_curve(y_test, pred_prob1[:, 1], pos_label=1)\n",
    "fpr2, tpr2, thresh2 = roc_curve(y_test, pred_prob2[:, 1], pos_label=1)\n",
    "\n",
    "# roc curve for tpr = fpr\n",
    "random_probs = [0 for i in range(len(y_test))]\n",
    "p_fpr, p_tpr, _ = roc_curve(y_test, random_probs, pos_label=1)\n",
    "\n",
    "from sklearn.metrics import roc_auc_score\n",
    "\n",
    "# auc scores\n",
    "auc_score1 = roc_auc_score(y_test, pred_prob1[:, 1])\n",
    "auc_score2 = roc_auc_score(y_test, pred_prob2[:, 1])\n",
    "\n",
    "print(auc_score1, auc_score2)\n",
    "\n",
    "print(auc_score1, auc_score2)\n",
    "\n",
    "print(auc_score1, auc_score2)"
   ]
  },
  {
   "cell_type": "code",
   "execution_count": 32,
   "id": "f0d3e061",
   "metadata": {},
   "outputs": [
    {
     "data": {
      "image/png": "[encoded data removed]",
      "text/plain": [
       "<Figure size 576x396 with 1 Axes>"
      ]
     },
     "metadata": {},
     "output_type": "display_data"
    }
   ],
   "source": [
    "# matplotlib\n",
    "import matplotlib.pyplot as plt\n",
    "plt.style.use('seaborn')\n",
    "\n",
    "# plot roc curves\n",
    "plt.plot(fpr1, tpr1, linestyle='--',color='orange', label='Logistic Regression')\n",
    "plt.plot(fpr2, tpr2, linestyle='--',color='green', label='KNN')\n",
    "plt.plot(p_fpr, p_tpr, linestyle='--', color='blue')\n",
    "# title\n",
    "plt.title('ROC curve')\n",
    "# x label\n",
    "plt.xlabel('False Positive Rate')\n",
    "# y label\n",
    "plt.ylabel('True Positive rate')\n",
    "\n",
    "plt.legend(loc='best')\n",
    "plt.savefig('ROC',dpi=300)\n",
    "plt.show();"
   ]
  },
  {
   "cell_type": "markdown",
   "id": "93a851d9",
   "metadata": {},
   "source": [
    "![](cm12.jpg)"
   ]
  },
  {
   "cell_type": "markdown",
   "id": "ebef0ca3",
   "metadata": {},
   "source": [
    "![](cm11.jpg)"
   ]
  },
  {
   "cell_type": "markdown",
   "id": "9933dbac",
   "metadata": {},
   "source": [
    "![](cm3.jpg)"
   ]
  },
  {
   "cell_type": "markdown",
   "id": "3066b0f9",
   "metadata": {},
   "source": [
    "![](cm4.jpg)"
   ]
  },
  {
   "cell_type": "markdown",
   "id": "a8b92896",
   "metadata": {},
   "source": [
    "![](cm5.jpg)"
   ]
  },
  {
   "cell_type": "markdown",
   "id": "69f2e278",
   "metadata": {},
   "source": [
    "![](cm6.jpg)"
   ]
  },
  {
   "cell_type": "markdown",
   "id": "83834270",
   "metadata": {},
   "source": [
    "![](cm7.jpg)"
   ]
  },
  {
   "cell_type": "markdown",
   "id": "f0e8ef32",
   "metadata": {},
   "source": [
    "![](cm8.jpg)"
   ]
  },
  {
   "cell_type": "markdown",
   "id": "0de0131f",
   "metadata": {},
   "source": [
    "![](cm9.jpg)"
   ]
  },
  {
   "cell_type": "markdown",
   "id": "53d3e657",
   "metadata": {},
   "source": [
    "![](cm10.jpg)"
   ]
  },
  {
   "cell_type": "markdown",
   "id": "bf9a216c",
   "metadata": {},
   "source": [
    "![](cm13.jpg)"
   ]
  },
  {
   "cell_type": "markdown",
   "id": "2662f52f",
   "metadata": {},
   "source": [
    "![](cm14.jpg)"
   ]
  },
  {
   "cell_type": "markdown",
   "id": "028e3625",
   "metadata": {},
   "source": [
    "![](cm15.jpg)"
   ]
  },
  {
   "cell_type": "markdown",
   "id": "71b3705e",
   "metadata": {},
   "source": [
    "![](cm16.jpg)"
   ]
  },
  {
   "cell_type": "markdown",
   "id": "920c5132",
   "metadata": {},
   "source": [
    "![](cm17.jpg)"
   ]
  },
  {
   "cell_type": "markdown",
   "id": "8844283d",
   "metadata": {},
   "source": [
    "![](cm18.jpg)"
   ]
  },
  {
   "cell_type": "markdown",
   "id": "873a4530",
   "metadata": {},
   "source": [
    "![](cm19.jpg)"
   ]
  },
  {
   "cell_type": "markdown",
   "id": "c0425a2a",
   "metadata": {},
   "source": [
    "![](cm20.jpg)"
   ]
  },
  {
   "cell_type": "markdown",
   "id": "418ea43d",
   "metadata": {},
   "source": [
    "![](cm21.jpg)"
   ]
  },
  {
   "cell_type": "markdown",
   "id": "78147e0c",
   "metadata": {},
   "source": [
    "![](cm22.jpg)"
   ]
  },
  {
   "cell_type": "markdown",
   "id": "87f1b174",
   "metadata": {},
   "source": [
    "![](cm23.jpg)"
   ]
  },
  {
   "cell_type": "markdown",
   "id": "7d598897",
   "metadata": {},
   "source": [
    "![](cm24.jpg)"
   ]
  },
  {
   "cell_type": "markdown",
   "id": "f7d2d1e9",
   "metadata": {},
   "source": [
    "![](cm25.jpg)"
   ]
  },
  {
   "cell_type": "markdown",
   "id": "7350356b",
   "metadata": {},
   "source": [
    "![](cm26.jpg)"
   ]
  },
  {
   "cell_type": "markdown",
   "id": "8c516c8f",
   "metadata": {},
   "source": [
    "![](cm27.jpg)"
   ]
  },
  {
   "cell_type": "markdown",
   "id": "ced930fd",
   "metadata": {},
   "source": [
    "![](cm26.jpg)"
   ]
  },
  {
   "cell_type": "markdown",
   "id": "db1295ba",
   "metadata": {},
   "source": []
  },
  {
   "cell_type": "markdown",
   "id": "abb3fdc6",
   "metadata": {},
   "source": []
  }
 ],
 "metadata": {
  "kernelspec": {
   "display_name": "Python 3",
   "language": "python",
   "name": "python3"
  },
  "language_info": {
   "codemirror_mode": {
    "name": "ipython",
    "version": 3
   },
   "file_extension": ".py",
   "mimetype": "text/x-python",
   "name": "python",
   "nbconvert_exporter": "python",
   "pygments_lexer": "ipython3",
   "version": "3.8.8"
  }
 },
 "nbformat": 4,
 "nbformat_minor": 5
}
