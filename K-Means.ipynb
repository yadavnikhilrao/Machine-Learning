{
 "cells": [
  {
   "cell_type": "markdown",
   "id": "a0b8947f",
   "metadata": {},
   "source": [
    "## K-Means"
   ]
  },
  {
   "cell_type": "code",
   "execution_count": null,
   "id": "9232c1f0",
   "metadata": {},
   "outputs": [],
   "source": []
  },
  {
   "cell_type": "code",
   "execution_count": null,
   "id": "4cb700fb",
   "metadata": {},
   "outputs": [],
   "source": []
  },
  {
   "cell_type": "code",
   "execution_count": null,
   "id": "c48726ba",
   "metadata": {},
   "outputs": [],
   "source": []
  },
  {
   "cell_type": "code",
   "execution_count": null,
   "id": "843556c7",
   "metadata": {},
   "outputs": [],
   "source": []
  },
  {
   "cell_type": "code",
   "execution_count": null,
   "id": "f038a4e8",
   "metadata": {},
   "outputs": [],
   "source": []
  },
  {
   "cell_type": "code",
   "execution_count": null,
   "id": "3d998ae6",
   "metadata": {},
   "outputs": [],
   "source": []
  },
  {
   "cell_type": "code",
   "execution_count": null,
   "id": "ee63fdc9",
   "metadata": {},
   "outputs": [],
   "source": []
  },
  {
   "cell_type": "code",
   "execution_count": null,
   "id": "4625f290",
   "metadata": {},
   "outputs": [],
   "source": []
  },
  {
   "cell_type": "code",
   "execution_count": null,
   "id": "ce2583d3",
   "metadata": {},
   "outputs": [],
   "source": []
  },
  {
   "cell_type": "code",
   "execution_count": null,
   "id": "5c7bfc6d",
   "metadata": {},
   "outputs": [],
   "source": []
  },
  {
   "cell_type": "code",
   "execution_count": null,
   "id": "66d43e15",
   "metadata": {},
   "outputs": [],
   "source": []
  },
  {
   "cell_type": "code",
   "execution_count": null,
   "id": "7a24c044",
   "metadata": {},
   "outputs": [],
   "source": []
  },
  {
   "cell_type": "markdown",
   "id": "ee990c72",
   "metadata": {},
   "source": [
    "![](km1.jpg)"
   ]
  },
  {
   "cell_type": "markdown",
   "id": "555312a1",
   "metadata": {},
   "source": [
    "![](km2.jpg)"
   ]
  },
  {
   "cell_type": "markdown",
   "id": "1ea32e61",
   "metadata": {},
   "source": [
    "![](km3.jpg)"
   ]
  },
  {
   "cell_type": "markdown",
   "id": "f4e1e98a",
   "metadata": {},
   "source": [
    "![](km4.jpg)"
   ]
  },
  {
   "cell_type": "markdown",
   "id": "3aa6280c",
   "metadata": {},
   "source": [
    "![](km5.jpg)"
   ]
  },
  {
   "cell_type": "markdown",
   "id": "ac091428",
   "metadata": {},
   "source": [
    "![](cl1.jpg)"
   ]
  },
  {
   "cell_type": "markdown",
   "id": "e0debf83",
   "metadata": {},
   "source": [
    "![](cl2.jpg)"
   ]
  },
  {
   "cell_type": "markdown",
   "id": "a0bab127",
   "metadata": {},
   "source": [
    "\n",
    "![](cl3.jpg)"
   ]
  },
  {
   "cell_type": "markdown",
   "id": "72d9daaa",
   "metadata": {},
   "source": [
    "![](cl4.jpg)"
   ]
  },
  {
   "cell_type": "markdown",
   "id": "c59d0808",
   "metadata": {},
   "source": [
    "![](cl5.jpg)"
   ]
  },
  {
   "cell_type": "markdown",
   "id": "65d27423",
   "metadata": {},
   "source": [
    "![](cl6.jpg)"
   ]
  },
  {
   "cell_type": "markdown",
   "id": "b82dcaaf",
   "metadata": {},
   "source": [
    "![](cl7.jpg)"
   ]
  },
  {
   "cell_type": "markdown",
   "id": "d06247c6",
   "metadata": {},
   "source": [
    "![](cl8.jpg)"
   ]
  },
  {
   "cell_type": "markdown",
   "id": "ff19fd1c",
   "metadata": {},
   "source": [
    "![](cl9.jpg)"
   ]
  },
  {
   "cell_type": "code",
   "execution_count": null,
   "id": "28eafc93",
   "metadata": {},
   "outputs": [],
   "source": []
  }
 ],
 "metadata": {
  "kernelspec": {
   "display_name": "Python 3",
   "language": "python",
   "name": "python3"
  },
  "language_info": {
   "codemirror_mode": {
    "name": "ipython",
    "version": 3
   },
   "file_extension": ".py",
   "mimetype": "text/x-python",
   "name": "python",
   "nbconvert_exporter": "python",
   "pygments_lexer": "ipython3",
   "version": "3.8.8"
  }
 },
 "nbformat": 4,
 "nbformat_minor": 5
}
