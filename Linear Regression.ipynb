{
 "cells": [
  {
   "cell_type": "markdown",
   "id": "5fd873c0",
   "metadata": {},
   "source": [
    "# Linear Regression\n",
    "It is used to estimate real values (cost of houses, number of calls, total sales etc.) based on continuous variable(s). Here, we establish relationship between independent and dependent variables by fitting a best line. This best fit line is known as regression line and represented by a linear equation y= m*x+c.\n",
    "1) In this equation:\n",
    "- y – Dependent Variable\n",
    "- m – Slope\n",
    "- x – Independent variable (coefficeint)\n",
    "- c – Intercept"
   ]
  },
  {
   "cell_type": "code",
   "execution_count": 1,
   "id": "bcd2853d",
   "metadata": {},
   "outputs": [],
   "source": [
    "# Simple Liner Regression is characterized by one independent variable.\n",
    "\n",
    "# Multilinear Regression is characterized by multiple (more than 1) independent variable."
   ]
  },
  {
   "cell_type": "code",
   "execution_count": 2,
   "id": "f023aac2",
   "metadata": {},
   "outputs": [],
   "source": [
    "# While finding the best fit line, you can fit a polynomial or curvilinear regression. \n",
    "# And these are known as polynomial or curvilinear regression."
   ]
  },
  {
   "cell_type": "code",
   "execution_count": 3,
   "id": "1f966dad",
   "metadata": {},
   "outputs": [],
   "source": [
    "# Simple Linear Regression\n",
    "import pandas as pd"
   ]
  },
  {
   "cell_type": "code",
   "execution_count": 4,
   "id": "19265f45",
   "metadata": {},
   "outputs": [
    {
     "data": {
      "text/html": [
       "<div>\n",
       "<style scoped>\n",
       "    .dataframe tbody tr th:only-of-type {\n",
       "        vertical-align: middle;\n",
       "    }\n",
       "\n",
       "    .dataframe tbody tr th {\n",
       "        vertical-align: top;\n",
       "    }\n",
       "\n",
       "    .dataframe thead th {\n",
       "        text-align: right;\n",
       "    }\n",
       "</style>\n",
       "<table border=\"1\" class=\"dataframe\">\n",
       "  <thead>\n",
       "    <tr style=\"text-align: right;\">\n",
       "      <th></th>\n",
       "      <th>Place</th>\n",
       "      <th>Profit</th>\n",
       "    </tr>\n",
       "  </thead>\n",
       "  <tbody>\n",
       "    <tr>\n",
       "      <th>0</th>\n",
       "      <td>1</td>\n",
       "      <td>21</td>\n",
       "    </tr>\n",
       "    <tr>\n",
       "      <th>1</th>\n",
       "      <td>2</td>\n",
       "      <td>26</td>\n",
       "    </tr>\n",
       "    <tr>\n",
       "      <th>2</th>\n",
       "      <td>3</td>\n",
       "      <td>25</td>\n",
       "    </tr>\n",
       "    <tr>\n",
       "      <th>3</th>\n",
       "      <td>4</td>\n",
       "      <td>30</td>\n",
       "    </tr>\n",
       "    <tr>\n",
       "      <th>4</th>\n",
       "      <td>5</td>\n",
       "      <td>29</td>\n",
       "    </tr>\n",
       "    <tr>\n",
       "      <th>5</th>\n",
       "      <td>6</td>\n",
       "      <td>35</td>\n",
       "    </tr>\n",
       "  </tbody>\n",
       "</table>\n",
       "</div>"
      ],
      "text/plain": [
       "   Place  Profit\n",
       "0      1      21\n",
       "1      2      26\n",
       "2      3      25\n",
       "3      4      30\n",
       "4      5      29\n",
       "5      6      35"
      ]
     },
     "execution_count": 4,
     "metadata": {},
     "output_type": "execute_result"
    }
   ],
   "source": [
    "df = pd.DataFrame({'Place':[1,2,3,4,5,6],\"Profit\":[21,26,25,30,29,35]})\n",
    "df"
   ]
  },
  {
   "cell_type": "code",
   "execution_count": 5,
   "id": "9bc413d2",
   "metadata": {},
   "outputs": [],
   "source": [
    "x = df.iloc[:,:-1]\n",
    "y = df.iloc[:,-1]"
   ]
  },
  {
   "cell_type": "code",
   "execution_count": 6,
   "id": "0f0f8aaf",
   "metadata": {},
   "outputs": [],
   "source": [
    "from sklearn.linear_model import LinearRegression\n",
    "model = LinearRegression()\n",
    "ypre = model.fit(x,y)"
   ]
  },
  {
   "cell_type": "code",
   "execution_count": 7,
   "id": "8f9fff13",
   "metadata": {},
   "outputs": [
    {
     "data": {
      "text/plain": [
       "LinearRegression()"
      ]
     },
     "execution_count": 7,
     "metadata": {},
     "output_type": "execute_result"
    }
   ],
   "source": [
    "ypre"
   ]
  },
  {
   "cell_type": "code",
   "execution_count": 8,
   "id": "ae4741d3",
   "metadata": {},
   "outputs": [
    {
     "data": {
      "text/plain": [
       "array([2.4])"
      ]
     },
     "execution_count": 8,
     "metadata": {},
     "output_type": "execute_result"
    }
   ],
   "source": [
    "model.coef_"
   ]
  },
  {
   "cell_type": "code",
   "execution_count": 9,
   "id": "dc1d8a6f",
   "metadata": {},
   "outputs": [
    {
     "data": {
      "text/plain": [
       "19.266666666666666"
      ]
     },
     "execution_count": 9,
     "metadata": {},
     "output_type": "execute_result"
    }
   ],
   "source": [
    "model.intercept_"
   ]
  },
  {
   "cell_type": "code",
   "execution_count": 10,
   "id": "83a2dcbf",
   "metadata": {},
   "outputs": [],
   "source": [
    "ypre=model.predict(x)"
   ]
  },
  {
   "cell_type": "code",
   "execution_count": 11,
   "id": "4ca32a9f",
   "metadata": {},
   "outputs": [
    {
     "data": {
      "text/plain": [
       "array([21.66666667, 24.06666667, 26.46666667, 28.86666667, 31.26666667,\n",
       "       33.66666667])"
      ]
     },
     "execution_count": 11,
     "metadata": {},
     "output_type": "execute_result"
    }
   ],
   "source": [
    "ypre"
   ]
  },
  {
   "cell_type": "code",
   "execution_count": 12,
   "id": "8ea1a802",
   "metadata": {},
   "outputs": [
    {
     "data": {
      "text/html": [
       "<div>\n",
       "<style scoped>\n",
       "    .dataframe tbody tr th:only-of-type {\n",
       "        vertical-align: middle;\n",
       "    }\n",
       "\n",
       "    .dataframe tbody tr th {\n",
       "        vertical-align: top;\n",
       "    }\n",
       "\n",
       "    .dataframe thead th {\n",
       "        text-align: right;\n",
       "    }\n",
       "</style>\n",
       "<table border=\"1\" class=\"dataframe\">\n",
       "  <thead>\n",
       "    <tr style=\"text-align: right;\">\n",
       "      <th></th>\n",
       "      <th>Place</th>\n",
       "      <th>Actual Profit</th>\n",
       "      <th>Predicted Profit</th>\n",
       "    </tr>\n",
       "  </thead>\n",
       "  <tbody>\n",
       "    <tr>\n",
       "      <th>0</th>\n",
       "      <td>1</td>\n",
       "      <td>21</td>\n",
       "      <td>21.666667</td>\n",
       "    </tr>\n",
       "    <tr>\n",
       "      <th>1</th>\n",
       "      <td>2</td>\n",
       "      <td>26</td>\n",
       "      <td>24.066667</td>\n",
       "    </tr>\n",
       "    <tr>\n",
       "      <th>2</th>\n",
       "      <td>3</td>\n",
       "      <td>25</td>\n",
       "      <td>26.466667</td>\n",
       "    </tr>\n",
       "    <tr>\n",
       "      <th>3</th>\n",
       "      <td>4</td>\n",
       "      <td>30</td>\n",
       "      <td>28.866667</td>\n",
       "    </tr>\n",
       "    <tr>\n",
       "      <th>4</th>\n",
       "      <td>5</td>\n",
       "      <td>29</td>\n",
       "      <td>31.266667</td>\n",
       "    </tr>\n",
       "    <tr>\n",
       "      <th>5</th>\n",
       "      <td>6</td>\n",
       "      <td>35</td>\n",
       "      <td>33.666667</td>\n",
       "    </tr>\n",
       "  </tbody>\n",
       "</table>\n",
       "</div>"
      ],
      "text/plain": [
       "   Place  Actual Profit  Predicted Profit\n",
       "0      1             21         21.666667\n",
       "1      2             26         24.066667\n",
       "2      3             25         26.466667\n",
       "3      4             30         28.866667\n",
       "4      5             29         31.266667\n",
       "5      6             35         33.666667"
      ]
     },
     "execution_count": 12,
     "metadata": {},
     "output_type": "execute_result"
    }
   ],
   "source": [
    "check = pd.DataFrame({'Place':df['Place'],'Actual Profit':df['Profit'],\"Predicted Profit\":ypre})\n",
    "check"
   ]
  },
  {
   "cell_type": "code",
   "execution_count": 13,
   "id": "303a8b98",
   "metadata": {
    "scrolled": true
   },
   "outputs": [
    {
     "data": {
      "text/plain": [
       "<matplotlib.legend.Legend at 0x2007b38df40>"
      ]
     },
     "execution_count": 13,
     "metadata": {},
     "output_type": "execute_result"
    },
    {
     "data": {
      "image/png": "[encoded data removed]",
      "text/plain": [
       "<Figure size 432x288 with 1 Axes>"
      ]
     },
     "metadata": {
      "needs_background": "light"
     },
     "output_type": "display_data"
    }
   ],
   "source": [
    "from matplotlib import pyplot as plt\n",
    "plt.scatter(x,y,c='r')\n",
    "plt.plot(x,ypre,c='b')\n",
    "\n",
    "# Function add a legend  \n",
    "plt.legend([\"Linear Regression\", \"Data\"], loc =\"upper left\")"
   ]
  },
  {
   "cell_type": "code",
   "execution_count": 14,
   "id": "5a32f65d",
   "metadata": {},
   "outputs": [
    {
     "name": "stdout",
     "output_type": "stream",
     "text": [
      "Squared Error:  14.533333333333326\n",
      "Mean Squared Error:  2.422222222222221\n",
      "Root Mean Square Error:  1.5563490039905\n",
      "R2 Score:  0.8739884393063584\n"
     ]
    }
   ],
   "source": [
    "# Analyze the performance of the model by calculating mean squared error and R2\n",
    "import numpy as np\n",
    "error = y - ypre\n",
    "se = np.sum(error**2)\n",
    "print('Squared Error: ', se)\n",
    "n = np.size(x)\n",
    "mse = se/n\n",
    "print('Mean Squared Error: ', mse)\n",
    "\n",
    "rmse = np.sqrt(mse)\n",
    "print('Root Mean Square Error: ', rmse)\n",
    "ymean = np.mean(y)\n",
    "SSt = np.sum((y - ymean)**2)\n",
    "R2 = 1- (se/SSt)\n",
    "print('R2 Score: ', R2)\n"
   ]
  },
  {
   "cell_type": "markdown",
   "id": "fdc8b1ac",
   "metadata": {},
   "source": [
    "## Multi-Linear Regression"
   ]
  },
  {
   "cell_type": "code",
   "execution_count": 54,
   "id": "a287b992",
   "metadata": {},
   "outputs": [],
   "source": [
    "import pandas as pd"
   ]
  },
  {
   "cell_type": "code",
   "execution_count": 55,
   "id": "28cab786",
   "metadata": {},
   "outputs": [
    {
     "data": {
      "text/html": [
       "<div>\n",
       "<style scoped>\n",
       "    .dataframe tbody tr th:only-of-type {\n",
       "        vertical-align: middle;\n",
       "    }\n",
       "\n",
       "    .dataframe tbody tr th {\n",
       "        vertical-align: top;\n",
       "    }\n",
       "\n",
       "    .dataframe thead th {\n",
       "        text-align: right;\n",
       "    }\n",
       "</style>\n",
       "<table border=\"1\" class=\"dataframe\">\n",
       "  <thead>\n",
       "    <tr style=\"text-align: right;\">\n",
       "      <th></th>\n",
       "      <th>R&amp;D Spend</th>\n",
       "      <th>Administration</th>\n",
       "      <th>Marketing Spend</th>\n",
       "      <th>State</th>\n",
       "      <th>Profit</th>\n",
       "    </tr>\n",
       "  </thead>\n",
       "  <tbody>\n",
       "    <tr>\n",
       "      <th>0</th>\n",
       "      <td>165349.20</td>\n",
       "      <td>136897.80</td>\n",
       "      <td>471784.10</td>\n",
       "      <td>New York</td>\n",
       "      <td>192261.83</td>\n",
       "    </tr>\n",
       "    <tr>\n",
       "      <th>1</th>\n",
       "      <td>162597.70</td>\n",
       "      <td>151377.59</td>\n",
       "      <td>443898.53</td>\n",
       "      <td>California</td>\n",
       "      <td>191792.06</td>\n",
       "    </tr>\n",
       "    <tr>\n",
       "      <th>2</th>\n",
       "      <td>153441.51</td>\n",
       "      <td>101145.55</td>\n",
       "      <td>407934.54</td>\n",
       "      <td>Florida</td>\n",
       "      <td>191050.39</td>\n",
       "    </tr>\n",
       "    <tr>\n",
       "      <th>3</th>\n",
       "      <td>144372.41</td>\n",
       "      <td>118671.85</td>\n",
       "      <td>383199.62</td>\n",
       "      <td>New York</td>\n",
       "      <td>182901.99</td>\n",
       "    </tr>\n",
       "    <tr>\n",
       "      <th>4</th>\n",
       "      <td>142107.34</td>\n",
       "      <td>91391.77</td>\n",
       "      <td>366168.42</td>\n",
       "      <td>Florida</td>\n",
       "      <td>166187.94</td>\n",
       "    </tr>\n",
       "  </tbody>\n",
       "</table>\n",
       "</div>"
      ],
      "text/plain": [
       "   R&D Spend  Administration  Marketing Spend       State     Profit\n",
       "0  165349.20       136897.80        471784.10    New York  192261.83\n",
       "1  162597.70       151377.59        443898.53  California  191792.06\n",
       "2  153441.51       101145.55        407934.54     Florida  191050.39\n",
       "3  144372.41       118671.85        383199.62    New York  182901.99\n",
       "4  142107.34        91391.77        366168.42     Florida  166187.94"
      ]
     },
     "execution_count": 55,
     "metadata": {},
     "output_type": "execute_result"
    }
   ],
   "source": [
    "data = pd.read_csv('d:50_Startups.csv')\n",
    "data.head()"
   ]
  },
  {
   "cell_type": "code",
   "execution_count": 56,
   "id": "0b0647f2",
   "metadata": {},
   "outputs": [
    {
     "data": {
      "text/plain": [
       "(50, 5)"
      ]
     },
     "execution_count": 56,
     "metadata": {},
     "output_type": "execute_result"
    }
   ],
   "source": [
    "data.shape"
   ]
  },
  {
   "cell_type": "code",
   "execution_count": 57,
   "id": "ad367c04",
   "metadata": {},
   "outputs": [],
   "source": [
    "# All the variables in the numeric form so it will change the catoragical data in numeric form.\n",
    "from sklearn.preprocessing import LabelEncoder\n",
    "le = LabelEncoder()"
   ]
  },
  {
   "cell_type": "code",
   "execution_count": 58,
   "id": "f87497a6",
   "metadata": {},
   "outputs": [],
   "source": [
    "data['State']=le.fit_transform(data['State'])"
   ]
  },
  {
   "cell_type": "code",
   "execution_count": 59,
   "id": "b9dc6b87",
   "metadata": {},
   "outputs": [
    {
     "data": {
      "text/html": [
       "<div>\n",
       "<style scoped>\n",
       "    .dataframe tbody tr th:only-of-type {\n",
       "        vertical-align: middle;\n",
       "    }\n",
       "\n",
       "    .dataframe tbody tr th {\n",
       "        vertical-align: top;\n",
       "    }\n",
       "\n",
       "    .dataframe thead th {\n",
       "        text-align: right;\n",
       "    }\n",
       "</style>\n",
       "<table border=\"1\" class=\"dataframe\">\n",
       "  <thead>\n",
       "    <tr style=\"text-align: right;\">\n",
       "      <th></th>\n",
       "      <th>R&amp;D Spend</th>\n",
       "      <th>Administration</th>\n",
       "      <th>Marketing Spend</th>\n",
       "      <th>State</th>\n",
       "      <th>Profit</th>\n",
       "    </tr>\n",
       "  </thead>\n",
       "  <tbody>\n",
       "    <tr>\n",
       "      <th>45</th>\n",
       "      <td>1000.23</td>\n",
       "      <td>124153.04</td>\n",
       "      <td>1903.93</td>\n",
       "      <td>2</td>\n",
       "      <td>64926.08</td>\n",
       "    </tr>\n",
       "    <tr>\n",
       "      <th>46</th>\n",
       "      <td>1315.46</td>\n",
       "      <td>115816.21</td>\n",
       "      <td>297114.46</td>\n",
       "      <td>1</td>\n",
       "      <td>49490.75</td>\n",
       "    </tr>\n",
       "    <tr>\n",
       "      <th>47</th>\n",
       "      <td>0.00</td>\n",
       "      <td>135426.92</td>\n",
       "      <td>0.00</td>\n",
       "      <td>0</td>\n",
       "      <td>42559.73</td>\n",
       "    </tr>\n",
       "    <tr>\n",
       "      <th>48</th>\n",
       "      <td>542.05</td>\n",
       "      <td>51743.15</td>\n",
       "      <td>0.00</td>\n",
       "      <td>2</td>\n",
       "      <td>35673.41</td>\n",
       "    </tr>\n",
       "    <tr>\n",
       "      <th>49</th>\n",
       "      <td>0.00</td>\n",
       "      <td>116983.80</td>\n",
       "      <td>45173.06</td>\n",
       "      <td>0</td>\n",
       "      <td>14681.40</td>\n",
       "    </tr>\n",
       "  </tbody>\n",
       "</table>\n",
       "</div>"
      ],
      "text/plain": [
       "    R&D Spend  Administration  Marketing Spend  State    Profit\n",
       "45    1000.23       124153.04          1903.93      2  64926.08\n",
       "46    1315.46       115816.21        297114.46      1  49490.75\n",
       "47       0.00       135426.92             0.00      0  42559.73\n",
       "48     542.05        51743.15             0.00      2  35673.41\n",
       "49       0.00       116983.80         45173.06      0  14681.40"
      ]
     },
     "execution_count": 59,
     "metadata": {},
     "output_type": "execute_result"
    }
   ],
   "source": [
    "data.tail()"
   ]
  },
  {
   "cell_type": "code",
   "execution_count": 60,
   "id": "b1b5f9ca",
   "metadata": {},
   "outputs": [
    {
     "name": "stderr",
     "output_type": "stream",
     "text": [
      "C:\\Users\\JP Computer\\anaconda3\\lib\\site-packages\\seaborn\\axisgrid.py:1969: UserWarning: The `size` parameter has been renamed to `height`; please update your code.\n",
      "  warnings.warn(msg, UserWarning)\n"
     ]
    },
    {
     "data": {
      "text/plain": [
       "<seaborn.axisgrid.PairGrid at 0x200234fe580>"
      ]
     },
     "execution_count": 60,
     "metadata": {},
     "output_type": "execute_result"
    },
    {
     "data": {
      "image/png": "[encoded data removed]",
      "text/plain": [
       "<Figure size 1411.2x504 with 4 Axes>"
      ]
     },
     "metadata": {
      "needs_background": "light"
     },
     "output_type": "display_data"
    }
   ],
   "source": [
    "import seaborn as sns\n",
    "%matplotlib inline\n",
    "sns.pairplot(data,x_vars=['R&D Spend', 'Administration', 'Marketing Spend', 'State'], y_vars=\"Profit\",\n",
    "             size=7,aspect=0.7,kind='reg')"
   ]
  },
  {
   "cell_type": "code",
   "execution_count": 61,
   "id": "423c94ed",
   "metadata": {},
   "outputs": [],
   "source": [
    "# divided data into independent and dependent variable.\n",
    "x = data.iloc[:,:-1]\n",
    "y = data.iloc[:,-1]"
   ]
  },
  {
   "cell_type": "code",
   "execution_count": 62,
   "id": "c15d880e",
   "metadata": {},
   "outputs": [],
   "source": [
    "# spliting the dataset into training set and test set.\n",
    "from sklearn.model_selection import train_test_split\n",
    "x_train,x_test,y_train,y_test = train_test_split(x,y,test_size=0.2)"
   ]
  },
  {
   "cell_type": "code",
   "execution_count": 63,
   "id": "ecc78384",
   "metadata": {},
   "outputs": [],
   "source": [
    "# import the regression model\n",
    "from sklearn.linear_model import LinearRegression\n",
    "model = LinearRegression()"
   ]
  },
  {
   "cell_type": "code",
   "execution_count": 64,
   "id": "3833bf15",
   "metadata": {},
   "outputs": [
    {
     "data": {
      "text/plain": [
       "LinearRegression()"
      ]
     },
     "execution_count": 64,
     "metadata": {},
     "output_type": "execute_result"
    }
   ],
   "source": [
    "# fitting multi-regression in train test.\n",
    "model.fit(x_train,y_train)"
   ]
  },
  {
   "cell_type": "code",
   "execution_count": 65,
   "id": "4f826c87",
   "metadata": {},
   "outputs": [],
   "source": [
    "# preadcting the test set result\n",
    "ypre = model.predict(x_test)"
   ]
  },
  {
   "cell_type": "code",
   "execution_count": 66,
   "id": "ec3464b0",
   "metadata": {},
   "outputs": [
    {
     "data": {
      "text/plain": [
       "array([147755.52309185, 109179.67524759,  90449.93320336, 127031.59522356,\n",
       "        73798.93147013, 113997.397411  ,  82434.88484326, 159861.50156689,\n",
       "       117182.24589651,  72980.25739766])"
      ]
     },
     "execution_count": 66,
     "metadata": {},
     "output_type": "execute_result"
    }
   ],
   "source": [
    "ypre"
   ]
  },
  {
   "cell_type": "code",
   "execution_count": 67,
   "id": "596ca949",
   "metadata": {},
   "outputs": [
    {
     "data": {
      "text/html": [
       "<div>\n",
       "<style scoped>\n",
       "    .dataframe tbody tr th:only-of-type {\n",
       "        vertical-align: middle;\n",
       "    }\n",
       "\n",
       "    .dataframe tbody tr th {\n",
       "        vertical-align: top;\n",
       "    }\n",
       "\n",
       "    .dataframe thead th {\n",
       "        text-align: right;\n",
       "    }\n",
       "</style>\n",
       "<table border=\"1\" class=\"dataframe\">\n",
       "  <thead>\n",
       "    <tr style=\"text-align: right;\">\n",
       "      <th></th>\n",
       "      <th>actual</th>\n",
       "      <th>predicted</th>\n",
       "    </tr>\n",
       "  </thead>\n",
       "  <tbody>\n",
       "    <tr>\n",
       "      <th>15</th>\n",
       "      <td>129917.04</td>\n",
       "      <td>147755.523092</td>\n",
       "    </tr>\n",
       "    <tr>\n",
       "      <th>23</th>\n",
       "      <td>108733.99</td>\n",
       "      <td>109179.675248</td>\n",
       "    </tr>\n",
       "    <tr>\n",
       "      <th>35</th>\n",
       "      <td>96479.51</td>\n",
       "      <td>90449.933203</td>\n",
       "    </tr>\n",
       "    <tr>\n",
       "      <th>13</th>\n",
       "      <td>134307.35</td>\n",
       "      <td>127031.595224</td>\n",
       "    </tr>\n",
       "    <tr>\n",
       "      <th>36</th>\n",
       "      <td>90708.19</td>\n",
       "      <td>73798.931470</td>\n",
       "    </tr>\n",
       "    <tr>\n",
       "      <th>22</th>\n",
       "      <td>110352.25</td>\n",
       "      <td>113997.397411</td>\n",
       "    </tr>\n",
       "    <tr>\n",
       "      <th>39</th>\n",
       "      <td>81005.76</td>\n",
       "      <td>82434.884843</td>\n",
       "    </tr>\n",
       "    <tr>\n",
       "      <th>6</th>\n",
       "      <td>156122.51</td>\n",
       "      <td>159861.501567</td>\n",
       "    </tr>\n",
       "    <tr>\n",
       "      <th>21</th>\n",
       "      <td>111313.02</td>\n",
       "      <td>117182.245897</td>\n",
       "    </tr>\n",
       "    <tr>\n",
       "      <th>40</th>\n",
       "      <td>78239.91</td>\n",
       "      <td>72980.257398</td>\n",
       "    </tr>\n",
       "  </tbody>\n",
       "</table>\n",
       "</div>"
      ],
      "text/plain": [
       "       actual      predicted\n",
       "15  129917.04  147755.523092\n",
       "23  108733.99  109179.675248\n",
       "35   96479.51   90449.933203\n",
       "13  134307.35  127031.595224\n",
       "36   90708.19   73798.931470\n",
       "22  110352.25  113997.397411\n",
       "39   81005.76   82434.884843\n",
       "6   156122.51  159861.501567\n",
       "21  111313.02  117182.245897\n",
       "40   78239.91   72980.257398"
      ]
     },
     "execution_count": 67,
     "metadata": {},
     "output_type": "execute_result"
    }
   ],
   "source": [
    "# comparing predicted profit with actual profit.\n",
    "check = pd.DataFrame({'actual':y_test,'predicted':ypre})\n",
    "check"
   ]
  },
  {
   "cell_type": "code",
   "execution_count": 68,
   "id": "7f5ef020",
   "metadata": {},
   "outputs": [
    {
     "name": "stdout",
     "output_type": "stream",
     "text": [
      "MAE:  6844.090076237636\n",
      "MSE: 78504685.58257733\n",
      "RMSE: 8860.286992111336\n",
      "R2 Score: 0.8578283427323671\n"
     ]
    }
   ],
   "source": [
    "# find the MAE,MSE,RMSE,R2 Score,Adjusted R2 Score\n",
    "from sklearn.metrics import mean_absolute_error,mean_squared_error,r2_score\n",
    "\n",
    "print('MAE: ',mean_absolute_error(y_test,ypre))\n",
    "\n",
    "print('MSE:',mean_squared_error(y_test,ypre))\n",
    "\n",
    "print('RMSE:',np.sqrt(mean_squared_error(y_test,ypre)))\n",
    "\n",
    "print('R2 Score:',r2_score(y_test,ypre))"
   ]
  },
  {
   "cell_type": "markdown",
   "id": "61828021",
   "metadata": {},
   "source": [
    "![](lr1.jpg)"
   ]
  },
  {
   "cell_type": "markdown",
   "id": "6a0c6680",
   "metadata": {},
   "source": [
    "![](lr2.jpg)"
   ]
  },
  {
   "cell_type": "markdown",
   "id": "11d99708",
   "metadata": {},
   "source": [
    "![](lr3.jpg)"
   ]
  },
  {
   "cell_type": "markdown",
   "id": "4201c846",
   "metadata": {},
   "source": [
    "![](lr4.jpg)"
   ]
  },
  {
   "cell_type": "markdown",
   "id": "0c5af540",
   "metadata": {},
   "source": [
    "![](lr5.jpg)"
   ]
  },
  {
   "cell_type": "markdown",
   "id": "7c7899f8",
   "metadata": {},
   "source": [
    "![](lr6.jpg)"
   ]
  },
  {
   "cell_type": "markdown",
   "id": "3020d79e",
   "metadata": {},
   "source": [
    "![](pr1.jpg)"
   ]
  },
  {
   "cell_type": "markdown",
   "id": "f2be137a",
   "metadata": {},
   "source": [
    "![](pr2.jpg)"
   ]
  },
  {
   "cell_type": "markdown",
   "id": "7dd2c042",
   "metadata": {},
   "source": [
    "![](pr3.jpg)"
   ]
  },
  {
   "cell_type": "markdown",
   "id": "88b5d4f2",
   "metadata": {},
   "source": [
    "![](pr4.jpg)"
   ]
  },
  {
   "cell_type": "markdown",
   "id": "ee715440",
   "metadata": {},
   "source": [
    "![](s1.jpg)"
   ]
  },
  {
   "cell_type": "markdown",
   "id": "b6fe88fb",
   "metadata": {},
   "source": [
    "![](s2.jpg)"
   ]
  },
  {
   "cell_type": "markdown",
   "id": "ff90db48",
   "metadata": {},
   "source": [
    "![](s3.jpg)"
   ]
  },
  {
   "cell_type": "markdown",
   "id": "e15e2be4",
   "metadata": {},
   "source": [
    "![](rr1.jpg)"
   ]
  },
  {
   "cell_type": "markdown",
   "id": "ab42d833",
   "metadata": {},
   "source": [
    "![](rr2.jpg)"
   ]
  },
  {
   "cell_type": "markdown",
   "id": "749739c0",
   "metadata": {},
   "source": [
    "![](rr3.jpg)"
   ]
  },
  {
   "cell_type": "markdown",
   "id": "d76f1d79",
   "metadata": {},
   "source": [
    "![](rr4.jpg)"
   ]
  },
  {
   "cell_type": "markdown",
   "id": "9cbb79a2",
   "metadata": {},
   "source": [
    "![](rr5.jpg)"
   ]
  },
  {
   "cell_type": "markdown",
   "id": "2d0df428",
   "metadata": {},
   "source": [
    "![](l1.jpg)"
   ]
  },
  {
   "cell_type": "markdown",
   "id": "9585b1a3",
   "metadata": {},
   "source": [
    "![](l2.jpg)"
   ]
  },
  {
   "cell_type": "markdown",
   "id": "af448a54",
   "metadata": {},
   "source": [
    "![](l3.jpg)"
   ]
  },
  {
   "cell_type": "markdown",
   "id": "65693a9a",
   "metadata": {},
   "source": [
    "![](l5.jpg)"
   ]
  },
  {
   "cell_type": "markdown",
   "id": "b1aa9f47",
   "metadata": {},
   "source": [
    "![](l6.jpg)"
   ]
  },
  {
   "cell_type": "markdown",
   "id": "a07964a2",
   "metadata": {},
   "source": [
    "![](l7.jpg)"
   ]
  },
  {
   "cell_type": "markdown",
   "id": "0c47ff3d",
   "metadata": {},
   "source": [
    "![](l8.jpg)"
   ]
  },
  {
   "cell_type": "markdown",
   "id": "5816d7a2",
   "metadata": {},
   "source": [
    "![](l9.jpg)"
   ]
  },
  {
   "cell_type": "markdown",
   "id": "03149522",
   "metadata": {},
   "source": []
  },
  {
   "cell_type": "markdown",
   "id": "40b8608d",
   "metadata": {},
   "source": [
    "## By Nikhil Yadav"
   ]
  }
 ],
 "metadata": {
  "kernelspec": {
   "display_name": "Python 3",
   "language": "python",
   "name": "python3"
  },
  "language_info": {
   "codemirror_mode": {
    "name": "ipython",
    "version": 3
   },
   "file_extension": ".py",
   "mimetype": "text/x-python",
   "name": "python",
   "nbconvert_exporter": "python",
   "pygments_lexer": "ipython3",
   "version": "3.8.8"
  }
 },
 "nbformat": 4,
 "nbformat_minor": 5
}
