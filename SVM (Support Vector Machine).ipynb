{
 "cells": [
  {
   "cell_type": "markdown",
   "id": "683e0fa6",
   "metadata": {},
   "source": [
    "# SVM (Support Vector Machine)\n",
    "It is a classification method. In this algorithm, we plot each data item as a point in n-dimensional space (where n is number of features you have) with the value of each feature being the value of a particular coordinate."
   ]
  },
  {
   "cell_type": "markdown",
   "id": "de414da2",
   "metadata": {},
   "source": [
    "- A Support Vector Machine or SVM is a machine learning algorithm that looks at data and sorts it into one of two categories.\n",
    "\n",
    "- Support Vector Machine is a supervised and linear Machine Learning algorithm most commonly used for solving classification problems and is also referred to as Support Vector Classification.\n",
    "\n",
    "- There is also a subset of SVM called SVR which stands for Support Vector Regression which uses the same principles to solve regression problems.\n",
    "- SVM is most commonly used and effective because of the use of the Kernel method which basically helps in solving the non-linearity of the equation in a very easy manner."
   ]
  },
  {
   "cell_type": "markdown",
   "id": "57447fd4",
   "metadata": {},
   "source": [
    "![](s1.png)"
   ]
  },
  {
   "cell_type": "markdown",
   "id": "211f2843",
   "metadata": {},
   "source": [
    "- The equation of the main separator line is called a hyperplane equation.\n",
    "- A classification problem can have only two (binary) classes for separating or can have more than two too which are known as a multi-class classification problems.\n",
    "- But not all classification predictive models support multi-class classification, algorithms such as the Logistic Regression and Support Vector Machines (SVM) were designed for binary classification and do not natively support classification tasks with more than two classes.\n",
    "- But if someone stills want to use the binary classification algorithms for multi-classification problems, one approach which is widely used is to split the multi-class classification datasets into multiple binary classification datasets and then fit a binary classification model on each.\n",
    "- As already mentioned above, SVM works much better for binary class\n",
    "- It would be easy to understand the math since our target variable ( variable / unseen data targeted to predict, whether the point is a male or a female)\n",
    "- Note: This will be a One Vs One approach."
   ]
  },
  {
   "cell_type": "markdown",
   "id": "bff55dc6",
   "metadata": {},
   "source": [
    "Case 1: (Perfect Separation for Binary Classified data) "
   ]
  },
  {
   "cell_type": "markdown",
   "id": "c7209d6c",
   "metadata": {},
   "source": [
    "![](s2.png)"
   ]
  },
  {
   "cell_type": "markdown",
   "id": "9d618813",
   "metadata": {},
   "source": [
    "- Continuing with our example, if the hyperplane will be able to differentiate between males and females perfectly without doing any miss-classification, then that case of separation is known as Perfect Separation.\n",
    "\n",
    "- Here, in the figure, if males are green and females are red and we can see that the hyperplane which is a line here has perfectly differentiated the two classes."
   ]
  },
  {
   "cell_type": "markdown",
   "id": "507d9540",
   "metadata": {},
   "source": [
    "- (Training data — Data through which algorithm/model learns the pattern on how to differentiate by looking at the features\n",
    "- Testing data — After the model is trained on training data, the model is asked to predict the values for unseen data where only the features are given, and now the model will tell whether its a male or a female)"
   ]
  },
  {
   "cell_type": "markdown",
   "id": "c25518df",
   "metadata": {},
   "source": [
    "![](s3.png)"
   ]
  },
  {
   "cell_type": "markdown",
   "id": "98a43c6c",
   "metadata": {},
   "source": [
    "- Now, there could be many hyperplanes giving 100% accuracy, as seen in the photograph.\n",
    "\n",
    "- “” So to choose the optimal/best hyperplane, place the hyperplane right at the center where the distance is maximum from the closest points and give the least test errors further. “”\n",
    "- To notice: We have to aim at the least TEST errors and NOT TRAINING errors.\n",
    "- So, we have to maximize the distance to give some space to the hyperplane equation which is also the goal / main idea behind SVM."
   ]
  },
  {
   "cell_type": "markdown",
   "id": "08f6cc07",
   "metadata": {},
   "source": [
    "The goal of the algorithm involved behind SVM:"
   ]
  },
  {
   "cell_type": "markdown",
   "id": "cdb861e1",
   "metadata": {},
   "source": [
    "![](s4.png)"
   ]
  },
  {
   "cell_type": "markdown",
   "id": "2134421a",
   "metadata": {},
   "source": [
    "- Finding a hyperplane with the maximum margin (margin is basically a protected space around hyperplane equation) and algorithm tries to have maximum margin with the closest points (known as support vectors).\n",
    "- In other words, “The goal is to maximize the minimum distance.”"
   ]
  },
  {
   "cell_type": "code",
   "execution_count": 2,
   "id": "051d2eef",
   "metadata": {},
   "outputs": [],
   "source": [
    "import pandas as pd\n",
    "import numpy as np\n",
    "from matplotlib import pyplot as plt "
   ]
  },
  {
   "cell_type": "code",
   "execution_count": 3,
   "id": "e330ac55",
   "metadata": {},
   "outputs": [
    {
     "data": {
      "text/html": [
       "<div>\n",
       "<style scoped>\n",
       "    .dataframe tbody tr th:only-of-type {\n",
       "        vertical-align: middle;\n",
       "    }\n",
       "\n",
       "    .dataframe tbody tr th {\n",
       "        vertical-align: top;\n",
       "    }\n",
       "\n",
       "    .dataframe thead th {\n",
       "        text-align: right;\n",
       "    }\n",
       "</style>\n",
       "<table border=\"1\" class=\"dataframe\">\n",
       "  <thead>\n",
       "    <tr style=\"text-align: right;\">\n",
       "      <th></th>\n",
       "      <th>Variance</th>\n",
       "      <th>Skewness</th>\n",
       "      <th>Curtosis</th>\n",
       "      <th>Entropy</th>\n",
       "      <th>Class</th>\n",
       "    </tr>\n",
       "  </thead>\n",
       "  <tbody>\n",
       "    <tr>\n",
       "      <th>0</th>\n",
       "      <td>3.62160</td>\n",
       "      <td>8.6661</td>\n",
       "      <td>-2.8073</td>\n",
       "      <td>-0.44699</td>\n",
       "      <td>0</td>\n",
       "    </tr>\n",
       "    <tr>\n",
       "      <th>1</th>\n",
       "      <td>4.54590</td>\n",
       "      <td>8.1674</td>\n",
       "      <td>-2.4586</td>\n",
       "      <td>-1.46210</td>\n",
       "      <td>0</td>\n",
       "    </tr>\n",
       "    <tr>\n",
       "      <th>2</th>\n",
       "      <td>3.86600</td>\n",
       "      <td>-2.6383</td>\n",
       "      <td>1.9242</td>\n",
       "      <td>0.10645</td>\n",
       "      <td>0</td>\n",
       "    </tr>\n",
       "    <tr>\n",
       "      <th>3</th>\n",
       "      <td>3.45660</td>\n",
       "      <td>9.5228</td>\n",
       "      <td>-4.0112</td>\n",
       "      <td>-3.59440</td>\n",
       "      <td>0</td>\n",
       "    </tr>\n",
       "    <tr>\n",
       "      <th>4</th>\n",
       "      <td>0.32924</td>\n",
       "      <td>-4.4552</td>\n",
       "      <td>4.5718</td>\n",
       "      <td>-0.98880</td>\n",
       "      <td>0</td>\n",
       "    </tr>\n",
       "  </tbody>\n",
       "</table>\n",
       "</div>"
      ],
      "text/plain": [
       "   Variance  Skewness  Curtosis  Entropy  Class\n",
       "0   3.62160    8.6661   -2.8073 -0.44699      0\n",
       "1   4.54590    8.1674   -2.4586 -1.46210      0\n",
       "2   3.86600   -2.6383    1.9242  0.10645      0\n",
       "3   3.45660    9.5228   -4.0112 -3.59440      0\n",
       "4   0.32924   -4.4552    4.5718 -0.98880      0"
      ]
     },
     "execution_count": 3,
     "metadata": {},
     "output_type": "execute_result"
    }
   ],
   "source": [
    "data = pd.read_csv('d:bill_authentication.csv')\n",
    "data.head()"
   ]
  },
  {
   "cell_type": "code",
   "execution_count": 4,
   "id": "f11ce33e",
   "metadata": {},
   "outputs": [
    {
     "data": {
      "text/plain": [
       "(1372, 5)"
      ]
     },
     "execution_count": 4,
     "metadata": {},
     "output_type": "execute_result"
    }
   ],
   "source": [
    "data.shape"
   ]
  },
  {
   "cell_type": "code",
   "execution_count": 6,
   "id": "ceed6eba",
   "metadata": {},
   "outputs": [
    {
     "data": {
      "text/plain": [
       "Variance    0\n",
       "Skewness    0\n",
       "Curtosis    0\n",
       "Entropy     0\n",
       "Class       0\n",
       "dtype: int64"
      ]
     },
     "execution_count": 6,
     "metadata": {},
     "output_type": "execute_result"
    }
   ],
   "source": [
    "data.isnull().sum()"
   ]
  },
  {
   "cell_type": "code",
   "execution_count": 7,
   "id": "74e9952e",
   "metadata": {},
   "outputs": [],
   "source": [
    "x = data.drop('Class',axis=1)\n",
    "y = data['Class']"
   ]
  },
  {
   "cell_type": "code",
   "execution_count": 10,
   "id": "3df21be4",
   "metadata": {},
   "outputs": [],
   "source": [
    "from sklearn.model_selection import train_test_split\n",
    "x_train,x_test,y_train,y_test=train_test_split(x,y,test_size=0.2)"
   ]
  },
  {
   "cell_type": "code",
   "execution_count": 12,
   "id": "aa28f2e5",
   "metadata": {},
   "outputs": [],
   "source": [
    "from sklearn.svm import SVC\n",
    "model = SVC(kernel='linear')"
   ]
  },
  {
   "cell_type": "code",
   "execution_count": 13,
   "id": "516f91f3",
   "metadata": {},
   "outputs": [
    {
     "data": {
      "text/plain": [
       "SVC(kernel='linear')"
      ]
     },
     "execution_count": 13,
     "metadata": {},
     "output_type": "execute_result"
    }
   ],
   "source": [
    "model.fit(x_train,y_train)"
   ]
  },
  {
   "cell_type": "code",
   "execution_count": 15,
   "id": "5bd2eda9",
   "metadata": {},
   "outputs": [],
   "source": [
    "ypre = model.predict(x_test)"
   ]
  },
  {
   "cell_type": "code",
   "execution_count": 18,
   "id": "be5a6ed4",
   "metadata": {},
   "outputs": [
    {
     "data": {
      "text/html": [
       "<div>\n",
       "<style scoped>\n",
       "    .dataframe tbody tr th:only-of-type {\n",
       "        vertical-align: middle;\n",
       "    }\n",
       "\n",
       "    .dataframe tbody tr th {\n",
       "        vertical-align: top;\n",
       "    }\n",
       "\n",
       "    .dataframe thead th {\n",
       "        text-align: right;\n",
       "    }\n",
       "</style>\n",
       "<table border=\"1\" class=\"dataframe\">\n",
       "  <thead>\n",
       "    <tr style=\"text-align: right;\">\n",
       "      <th></th>\n",
       "      <th>acutal value</th>\n",
       "      <th>predicted value</th>\n",
       "    </tr>\n",
       "  </thead>\n",
       "  <tbody>\n",
       "    <tr>\n",
       "      <th>660</th>\n",
       "      <td>0</td>\n",
       "      <td>0</td>\n",
       "    </tr>\n",
       "    <tr>\n",
       "      <th>326</th>\n",
       "      <td>0</td>\n",
       "      <td>0</td>\n",
       "    </tr>\n",
       "    <tr>\n",
       "      <th>1051</th>\n",
       "      <td>1</td>\n",
       "      <td>1</td>\n",
       "    </tr>\n",
       "    <tr>\n",
       "      <th>32</th>\n",
       "      <td>0</td>\n",
       "      <td>0</td>\n",
       "    </tr>\n",
       "    <tr>\n",
       "      <th>803</th>\n",
       "      <td>1</td>\n",
       "      <td>1</td>\n",
       "    </tr>\n",
       "    <tr>\n",
       "      <th>...</th>\n",
       "      <td>...</td>\n",
       "      <td>...</td>\n",
       "    </tr>\n",
       "    <tr>\n",
       "      <th>1171</th>\n",
       "      <td>1</td>\n",
       "      <td>1</td>\n",
       "    </tr>\n",
       "    <tr>\n",
       "      <th>702</th>\n",
       "      <td>0</td>\n",
       "      <td>0</td>\n",
       "    </tr>\n",
       "    <tr>\n",
       "      <th>786</th>\n",
       "      <td>1</td>\n",
       "      <td>1</td>\n",
       "    </tr>\n",
       "    <tr>\n",
       "      <th>1189</th>\n",
       "      <td>1</td>\n",
       "      <td>1</td>\n",
       "    </tr>\n",
       "    <tr>\n",
       "      <th>603</th>\n",
       "      <td>0</td>\n",
       "      <td>0</td>\n",
       "    </tr>\n",
       "  </tbody>\n",
       "</table>\n",
       "<p>275 rows × 2 columns</p>\n",
       "</div>"
      ],
      "text/plain": [
       "      acutal value  predicted value\n",
       "660              0                0\n",
       "326              0                0\n",
       "1051             1                1\n",
       "32               0                0\n",
       "803              1                1\n",
       "...            ...              ...\n",
       "1171             1                1\n",
       "702              0                0\n",
       "786              1                1\n",
       "1189             1                1\n",
       "603              0                0\n",
       "\n",
       "[275 rows x 2 columns]"
      ]
     },
     "execution_count": 18,
     "metadata": {},
     "output_type": "execute_result"
    }
   ],
   "source": [
    "# comparing the result\n",
    "df = pd.DataFrame({'acutal value':y_test,'predicted value':ypre})\n",
    "df"
   ]
  },
  {
   "cell_type": "code",
   "execution_count": 21,
   "id": "f528412a",
   "metadata": {},
   "outputs": [
    {
     "name": "stdout",
     "output_type": "stream",
     "text": [
      "[[138   1]\n",
      " [  1 135]]\n",
      "              precision    recall  f1-score   support\n",
      "\n",
      "           0       0.99      0.99      0.99       139\n",
      "           1       0.99      0.99      0.99       136\n",
      "\n",
      "    accuracy                           0.99       275\n",
      "   macro avg       0.99      0.99      0.99       275\n",
      "weighted avg       0.99      0.99      0.99       275\n",
      "\n"
     ]
    }
   ],
   "source": [
    "from sklearn.metrics import classification_report, confusion_matrix\n",
    "print(confusion_matrix(y_test,ypre))\n",
    "print(classification_report(y_test,ypre))"
   ]
  },
  {
   "cell_type": "markdown",
   "id": "9545a7d8",
   "metadata": {},
   "source": [
    "![](svm1.jpg)"
   ]
  },
  {
   "cell_type": "markdown",
   "id": "e29f8d4d",
   "metadata": {},
   "source": [
    "![](svm2.jpg)"
   ]
  },
  {
   "cell_type": "markdown",
   "id": "e3809602",
   "metadata": {},
   "source": [
    "![](svm3.jpg)"
   ]
  },
  {
   "cell_type": "markdown",
   "id": "7da899bb",
   "metadata": {},
   "source": [
    "![](svm4.jpg)"
   ]
  },
  {
   "cell_type": "markdown",
   "id": "81a9f52f",
   "metadata": {},
   "source": [
    "### By Nikhil Yadav"
   ]
  }
 ],
 "metadata": {
  "kernelspec": {
   "display_name": "Python 3",
   "language": "python",
   "name": "python3"
  },
  "language_info": {
   "codemirror_mode": {
    "name": "ipython",
    "version": 3
   },
   "file_extension": ".py",
   "mimetype": "text/x-python",
   "name": "python",
   "nbconvert_exporter": "python",
   "pygments_lexer": "ipython3",
   "version": "3.8.8"
  }
 },
 "nbformat": 4,
 "nbformat_minor": 5
}
