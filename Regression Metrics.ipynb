{
 "cells": [
  {
   "cell_type": "markdown",
   "id": "5cbd38b7",
   "metadata": {},
   "source": [
    "## MAE, MSE, RMSE, R2 Score, Adjusted R2 score"
   ]
  },
  {
   "cell_type": "code",
   "execution_count": 1,
   "id": "6247b368",
   "metadata": {},
   "outputs": [],
   "source": [
    "import pandas as pd\n",
    "from matplotlib import pyplot as plt\n",
    "import numpy as np"
   ]
  },
  {
   "cell_type": "code",
   "execution_count": 2,
   "id": "0022d4be",
   "metadata": {},
   "outputs": [],
   "source": [
    "data = pd.read_csv(\"placements.txt\",delimiter=\",\")"
   ]
  },
  {
   "cell_type": "code",
   "execution_count": 3,
   "id": "f7c3544b",
   "metadata": {},
   "outputs": [
    {
     "data": {
      "text/html": [
       "<div>\n",
       "<style scoped>\n",
       "    .dataframe tbody tr th:only-of-type {\n",
       "        vertical-align: middle;\n",
       "    }\n",
       "\n",
       "    .dataframe tbody tr th {\n",
       "        vertical-align: top;\n",
       "    }\n",
       "\n",
       "    .dataframe thead th {\n",
       "        text-align: right;\n",
       "    }\n",
       "</style>\n",
       "<table border=\"1\" class=\"dataframe\">\n",
       "  <thead>\n",
       "    <tr style=\"text-align: right;\">\n",
       "      <th></th>\n",
       "      <th>cgpa</th>\n",
       "      <th>package</th>\n",
       "    </tr>\n",
       "  </thead>\n",
       "  <tbody>\n",
       "    <tr>\n",
       "      <th>0</th>\n",
       "      <td>6.89</td>\n",
       "      <td>3.26</td>\n",
       "    </tr>\n",
       "    <tr>\n",
       "      <th>1</th>\n",
       "      <td>5.12</td>\n",
       "      <td>1.98</td>\n",
       "    </tr>\n",
       "    <tr>\n",
       "      <th>2</th>\n",
       "      <td>7.82</td>\n",
       "      <td>3.25</td>\n",
       "    </tr>\n",
       "    <tr>\n",
       "      <th>3</th>\n",
       "      <td>7.42</td>\n",
       "      <td>3.67</td>\n",
       "    </tr>\n",
       "    <tr>\n",
       "      <th>4</th>\n",
       "      <td>6.94</td>\n",
       "      <td>3.57</td>\n",
       "    </tr>\n",
       "  </tbody>\n",
       "</table>\n",
       "</div>"
      ],
      "text/plain": [
       "   cgpa  package\n",
       "0  6.89     3.26\n",
       "1  5.12     1.98\n",
       "2  7.82     3.25\n",
       "3  7.42     3.67\n",
       "4  6.94     3.57"
      ]
     },
     "execution_count": 3,
     "metadata": {},
     "output_type": "execute_result"
    }
   ],
   "source": [
    "data.head()"
   ]
  },
  {
   "cell_type": "code",
   "execution_count": 4,
   "id": "73947094",
   "metadata": {},
   "outputs": [
    {
     "data": {
      "text/plain": [
       "(200, 2)"
      ]
     },
     "execution_count": 4,
     "metadata": {},
     "output_type": "execute_result"
    }
   ],
   "source": [
    "data.shape"
   ]
  },
  {
   "cell_type": "code",
   "execution_count": 5,
   "id": "6168c39e",
   "metadata": {},
   "outputs": [
    {
     "data": {
      "text/plain": [
       "Text(0, 0.5, 'Package (LPA)')"
      ]
     },
     "execution_count": 5,
     "metadata": {},
     "output_type": "execute_result"
    },
    {
     "data": {
      "image/png": "[encoded data removed]",
      "text/plain": [
       "<Figure size 432x288 with 1 Axes>"
      ]
     },
     "metadata": {
      "needs_background": "light"
     },
     "output_type": "display_data"
    }
   ],
   "source": [
    "plt.scatter(data['cgpa'],data['package'])\n",
    "plt.xlabel('CGPA')\n",
    "plt.ylabel('Package (LPA)')"
   ]
  },
  {
   "cell_type": "code",
   "execution_count": 6,
   "id": "b134521f",
   "metadata": {},
   "outputs": [],
   "source": [
    "x = data.iloc[:,0:1]\n",
    "y = data.iloc[:,-1]"
   ]
  },
  {
   "cell_type": "code",
   "execution_count": 7,
   "id": "62939c1c",
   "metadata": {},
   "outputs": [],
   "source": [
    "from sklearn.model_selection import train_test_split\n",
    "x_train,x_test,y_train,y_test=train_test_split(x,y,test_size=0.2,random_state=4)"
   ]
  },
  {
   "cell_type": "code",
   "execution_count": 26,
   "id": "bfa03116",
   "metadata": {},
   "outputs": [],
   "source": [
    "from sklearn.linear_model import LinearRegression\n",
    "lr = LinearRegression()"
   ]
  },
  {
   "cell_type": "code",
   "execution_count": 27,
   "id": "ce88679a",
   "metadata": {},
   "outputs": [
    {
     "data": {
      "text/plain": [
       "LinearRegression()"
      ]
     },
     "execution_count": 27,
     "metadata": {},
     "output_type": "execute_result"
    }
   ],
   "source": [
    "lr.fit(x,y)"
   ]
  },
  {
   "cell_type": "code",
   "execution_count": 28,
   "id": "c852a01d",
   "metadata": {},
   "outputs": [
    {
     "data": {
      "text/plain": [
       "Text(0, 0.5, 'package(LPA)')"
      ]
     },
     "execution_count": 28,
     "metadata": {},
     "output_type": "execute_result"
    },
    {
     "data": {
      "image/png": "[encoded data removed]",
      "text/plain": [
       "<Figure size 432x288 with 1 Axes>"
      ]
     },
     "metadata": {
      "needs_background": "light"
     },
     "output_type": "display_data"
    }
   ],
   "source": [
    "plt.scatter(data['cgpa'],data['package'])\n",
    "plt.plot(x_train,lr.predict(x_train),c='r')\n",
    "plt.xlabel('CGPA')\n",
    "plt.ylabel('package(LPA)')"
   ]
  },
  {
   "cell_type": "code",
   "execution_count": 29,
   "id": "3e7ec864",
   "metadata": {},
   "outputs": [],
   "source": [
    "from sklearn.metrics import mean_absolute_error,mean_squared_error,r2_score"
   ]
  },
  {
   "cell_type": "code",
   "execution_count": 30,
   "id": "d1349930",
   "metadata": {},
   "outputs": [],
   "source": [
    "y_pre = lr.predict(x_test)"
   ]
  },
  {
   "cell_type": "code",
   "execution_count": 31,
   "id": "e9c213be",
   "metadata": {},
   "outputs": [
    {
     "data": {
      "text/plain": [
       "array([2.6 , 3.24, 3.34, 3.5 , 1.98, 2.25, 2.66, 3.64, 1.48, 2.44, 1.61,\n",
       "       2.33, 3.48, 2.3 , 3.14, 3.08, 2.73, 3.76, 3.89, 1.53, 2.2 , 1.37,\n",
       "       2.21, 3.42, 3.26, 2.31, 4.1 , 2.6 , 3.42, 2.69, 3.44, 2.98, 3.6 ,\n",
       "       3.58, 3.99, 2.65, 4.14, 3.49, 3.89, 3.34])"
      ]
     },
     "execution_count": 31,
     "metadata": {},
     "output_type": "execute_result"
    }
   ],
   "source": [
    "y_test.values"
   ]
  },
  {
   "cell_type": "code",
   "execution_count": 32,
   "id": "9e7ac0ad",
   "metadata": {},
   "outputs": [
    {
     "data": {
      "text/html": [
       "<div>\n",
       "<style scoped>\n",
       "    .dataframe tbody tr th:only-of-type {\n",
       "        vertical-align: middle;\n",
       "    }\n",
       "\n",
       "    .dataframe tbody tr th {\n",
       "        vertical-align: top;\n",
       "    }\n",
       "\n",
       "    .dataframe thead th {\n",
       "        text-align: right;\n",
       "    }\n",
       "</style>\n",
       "<table border=\"1\" class=\"dataframe\">\n",
       "  <thead>\n",
       "    <tr style=\"text-align: right;\">\n",
       "      <th></th>\n",
       "      <th>Test Value</th>\n",
       "      <th>Predicted Value</th>\n",
       "    </tr>\n",
       "  </thead>\n",
       "  <tbody>\n",
       "    <tr>\n",
       "      <th>11</th>\n",
       "      <td>2.60</td>\n",
       "      <td>2.779321</td>\n",
       "    </tr>\n",
       "    <tr>\n",
       "      <th>99</th>\n",
       "      <td>3.24</td>\n",
       "      <td>2.779321</td>\n",
       "    </tr>\n",
       "    <tr>\n",
       "      <th>128</th>\n",
       "      <td>3.34</td>\n",
       "      <td>3.531181</td>\n",
       "    </tr>\n",
       "    <tr>\n",
       "      <th>175</th>\n",
       "      <td>3.50</td>\n",
       "      <td>3.024245</td>\n",
       "    </tr>\n",
       "    <tr>\n",
       "      <th>1</th>\n",
       "      <td>1.98</td>\n",
       "      <td>1.930629</td>\n",
       "    </tr>\n",
       "    <tr>\n",
       "      <th>111</th>\n",
       "      <td>2.25</td>\n",
       "      <td>2.101507</td>\n",
       "    </tr>\n",
       "    <tr>\n",
       "      <th>90</th>\n",
       "      <td>2.66</td>\n",
       "      <td>3.064116</td>\n",
       "    </tr>\n",
       "    <tr>\n",
       "      <th>177</th>\n",
       "      <td>3.64</td>\n",
       "      <td>3.052724</td>\n",
       "    </tr>\n",
       "    <tr>\n",
       "      <th>88</th>\n",
       "      <td>1.48</td>\n",
       "      <td>1.708489</td>\n",
       "    </tr>\n",
       "    <tr>\n",
       "      <th>187</th>\n",
       "      <td>2.44</td>\n",
       "      <td>2.579964</td>\n",
       "    </tr>\n",
       "    <tr>\n",
       "      <th>61</th>\n",
       "      <td>1.61</td>\n",
       "      <td>2.135682</td>\n",
       "    </tr>\n",
       "    <tr>\n",
       "      <th>199</th>\n",
       "      <td>2.33</td>\n",
       "      <td>2.557180</td>\n",
       "    </tr>\n",
       "    <tr>\n",
       "      <th>191</th>\n",
       "      <td>3.48</td>\n",
       "      <td>3.160947</td>\n",
       "    </tr>\n",
       "    <tr>\n",
       "      <th>123</th>\n",
       "      <td>2.30</td>\n",
       "      <td>1.919238</td>\n",
       "    </tr>\n",
       "    <tr>\n",
       "      <th>184</th>\n",
       "      <td>3.14</td>\n",
       "      <td>3.502701</td>\n",
       "    </tr>\n",
       "    <tr>\n",
       "      <th>188</th>\n",
       "      <td>3.08</td>\n",
       "      <td>3.200818</td>\n",
       "    </tr>\n",
       "    <tr>\n",
       "      <th>33</th>\n",
       "      <td>2.73</td>\n",
       "      <td>2.631227</td>\n",
       "    </tr>\n",
       "    <tr>\n",
       "      <th>171</th>\n",
       "      <td>3.76</td>\n",
       "      <td>3.576748</td>\n",
       "    </tr>\n",
       "    <tr>\n",
       "      <th>138</th>\n",
       "      <td>3.89</td>\n",
       "      <td>3.519789</td>\n",
       "    </tr>\n",
       "    <tr>\n",
       "      <th>84</th>\n",
       "      <td>1.53</td>\n",
       "      <td>1.440781</td>\n",
       "    </tr>\n",
       "    <tr>\n",
       "      <th>81</th>\n",
       "      <td>2.20</td>\n",
       "      <td>2.488829</td>\n",
       "    </tr>\n",
       "    <tr>\n",
       "      <th>102</th>\n",
       "      <td>1.37</td>\n",
       "      <td>1.936325</td>\n",
       "    </tr>\n",
       "    <tr>\n",
       "      <th>147</th>\n",
       "      <td>2.21</td>\n",
       "      <td>2.238209</td>\n",
       "    </tr>\n",
       "    <tr>\n",
       "      <th>34</th>\n",
       "      <td>3.42</td>\n",
       "      <td>3.195122</td>\n",
       "    </tr>\n",
       "    <tr>\n",
       "      <th>47</th>\n",
       "      <td>3.26</td>\n",
       "      <td>2.340735</td>\n",
       "    </tr>\n",
       "    <tr>\n",
       "      <th>124</th>\n",
       "      <td>2.31</td>\n",
       "      <td>2.466045</td>\n",
       "    </tr>\n",
       "    <tr>\n",
       "      <th>112</th>\n",
       "      <td>4.10</td>\n",
       "      <td>3.901415</td>\n",
       "    </tr>\n",
       "    <tr>\n",
       "      <th>6</th>\n",
       "      <td>2.60</td>\n",
       "      <td>2.847671</td>\n",
       "    </tr>\n",
       "    <tr>\n",
       "      <th>14</th>\n",
       "      <td>3.42</td>\n",
       "      <td>3.417263</td>\n",
       "    </tr>\n",
       "    <tr>\n",
       "      <th>190</th>\n",
       "      <td>2.69</td>\n",
       "      <td>2.540092</td>\n",
       "    </tr>\n",
       "    <tr>\n",
       "      <th>80</th>\n",
       "      <td>3.44</td>\n",
       "      <td>3.360304</td>\n",
       "    </tr>\n",
       "    <tr>\n",
       "      <th>18</th>\n",
       "      <td>2.98</td>\n",
       "      <td>2.967286</td>\n",
       "    </tr>\n",
       "    <tr>\n",
       "      <th>167</th>\n",
       "      <td>3.60</td>\n",
       "      <td>3.645099</td>\n",
       "    </tr>\n",
       "    <tr>\n",
       "      <th>45</th>\n",
       "      <td>3.58</td>\n",
       "      <td>3.497006</td>\n",
       "    </tr>\n",
       "    <tr>\n",
       "      <th>153</th>\n",
       "      <td>3.99</td>\n",
       "      <td>3.536877</td>\n",
       "    </tr>\n",
       "    <tr>\n",
       "      <th>119</th>\n",
       "      <td>2.65</td>\n",
       "      <td>3.223602</td>\n",
       "    </tr>\n",
       "    <tr>\n",
       "      <th>100</th>\n",
       "      <td>4.14</td>\n",
       "      <td>3.542573</td>\n",
       "    </tr>\n",
       "    <tr>\n",
       "      <th>83</th>\n",
       "      <td>3.49</td>\n",
       "      <td>3.821673</td>\n",
       "    </tr>\n",
       "    <tr>\n",
       "      <th>181</th>\n",
       "      <td>3.89</td>\n",
       "      <td>3.696362</td>\n",
       "    </tr>\n",
       "    <tr>\n",
       "      <th>71</th>\n",
       "      <td>3.34</td>\n",
       "      <td>3.269169</td>\n",
       "    </tr>\n",
       "  </tbody>\n",
       "</table>\n",
       "</div>"
      ],
      "text/plain": [
       "     Test Value  Predicted Value\n",
       "11         2.60         2.779321\n",
       "99         3.24         2.779321\n",
       "128        3.34         3.531181\n",
       "175        3.50         3.024245\n",
       "1          1.98         1.930629\n",
       "111        2.25         2.101507\n",
       "90         2.66         3.064116\n",
       "177        3.64         3.052724\n",
       "88         1.48         1.708489\n",
       "187        2.44         2.579964\n",
       "61         1.61         2.135682\n",
       "199        2.33         2.557180\n",
       "191        3.48         3.160947\n",
       "123        2.30         1.919238\n",
       "184        3.14         3.502701\n",
       "188        3.08         3.200818\n",
       "33         2.73         2.631227\n",
       "171        3.76         3.576748\n",
       "138        3.89         3.519789\n",
       "84         1.53         1.440781\n",
       "81         2.20         2.488829\n",
       "102        1.37         1.936325\n",
       "147        2.21         2.238209\n",
       "34         3.42         3.195122\n",
       "47         3.26         2.340735\n",
       "124        2.31         2.466045\n",
       "112        4.10         3.901415\n",
       "6          2.60         2.847671\n",
       "14         3.42         3.417263\n",
       "190        2.69         2.540092\n",
       "80         3.44         3.360304\n",
       "18         2.98         2.967286\n",
       "167        3.60         3.645099\n",
       "45         3.58         3.497006\n",
       "153        3.99         3.536877\n",
       "119        2.65         3.223602\n",
       "100        4.14         3.542573\n",
       "83         3.49         3.821673\n",
       "181        3.89         3.696362\n",
       "71         3.34         3.269169"
      ]
     },
     "execution_count": 32,
     "metadata": {},
     "output_type": "execute_result"
    }
   ],
   "source": [
    "df = pd.DataFrame({'Test Value':y_test,'Predicted Value':y_pre})\n",
    "df"
   ]
  },
  {
   "cell_type": "code",
   "execution_count": 33,
   "id": "72de3da8",
   "metadata": {},
   "outputs": [
    {
     "name": "stdout",
     "output_type": "stream",
     "text": [
      "MAE: 0.26913865091404965\n",
      "MSE: 0.11320931085481953\n",
      "RMSE: 0.33646591336243786\n",
      "R2 Score: 0.8001010698130745\n"
     ]
    }
   ],
   "source": [
    "# Analyze the performance of the model by calculating mean squared error and R2\n",
    "\n",
    "print('MAE:',mean_absolute_error(y_test,y_pre))\n",
    "\n",
    "print('MSE:',mean_squared_error(y_test,y_pre))\n",
    "\n",
    "print('RMSE:',np.sqrt(mean_squared_error(y_test,y_pre)))\n",
    "\n",
    "print('R2 Score:',r2_score(y_test,y_pre))"
   ]
  },
  {
   "cell_type": "code",
   "execution_count": 34,
   "id": "38216f24",
   "metadata": {},
   "outputs": [
    {
     "data": {
      "text/plain": [
       "(40, 1)"
      ]
     },
     "execution_count": 34,
     "metadata": {},
     "output_type": "execute_result"
    }
   ],
   "source": [
    "x_test.shape"
   ]
  },
  {
   "cell_type": "code",
   "execution_count": 35,
   "id": "412bf2bf",
   "metadata": {},
   "outputs": [
    {
     "data": {
      "text/plain": [
       "0.7948405716502607"
      ]
     },
     "execution_count": 35,
     "metadata": {},
     "output_type": "execute_result"
    }
   ],
   "source": [
    "# Adjusted R2 score\n",
    "x_test.shape\n",
    "1 - ((1-r2_score(y_test,y_pre))*(40-1)/(40-1-1))"
   ]
  },
  {
   "cell_type": "code",
   "execution_count": 36,
   "id": "a5919b4c",
   "metadata": {},
   "outputs": [
    {
     "name": "stdout",
     "output_type": "stream",
     "text": [
      "Squared error is  4.528372434192781\n",
      "Mean squared error is  0.02264186217096391\n",
      "Root mean square error is  0.1504721308779932\n",
      "R2 score is  0.8001010698130745\n"
     ]
    }
   ],
   "source": [
    "# by formula and programing\n",
    "\n",
    "import numpy as np\n",
    "error = y_test - y_pre\n",
    "se = np.sum(error**2)\n",
    "print('Squared error is ', se)\n",
    "n = np.size(x)\n",
    "mse = se/n\n",
    "print('Mean squared error is ', mse)\n",
    "\n",
    "rmse = np.sqrt(mse)\n",
    "print('Root mean square error is ', rmse)\n",
    "ymean = np.mean(y_test)\n",
    "SSt = np.sum((y_test - ymean)**2)\n",
    "R2 = 1- (se/SSt)\n",
    "print('R2 score is ', R2)\n"
   ]
  },
  {
   "cell_type": "markdown",
   "id": "7a667151",
   "metadata": {},
   "source": [
    "![](mae1.jpg)"
   ]
  },
  {
   "cell_type": "markdown",
   "id": "8d97ccf1",
   "metadata": {},
   "source": [
    "![](mae2.jpg)"
   ]
  },
  {
   "cell_type": "markdown",
   "id": "47eba316",
   "metadata": {},
   "source": [
    "![](mae3.jpg)"
   ]
  },
  {
   "cell_type": "markdown",
   "id": "734d8755",
   "metadata": {},
   "source": [
    "![](mse2.jpg)"
   ]
  },
  {
   "cell_type": "markdown",
   "id": "ad41b1eb",
   "metadata": {},
   "source": [
    "![](mse1.jpg)"
   ]
  },
  {
   "cell_type": "markdown",
   "id": "35f69cc7",
   "metadata": {},
   "source": [
    "![](rmse1.jpg)"
   ]
  },
  {
   "cell_type": "markdown",
   "id": "938bb091",
   "metadata": {},
   "source": [
    "![](rmse2.jpg)"
   ]
  },
  {
   "cell_type": "markdown",
   "id": "0b331625",
   "metadata": {},
   "source": [
    "![](r24.jpg)"
   ]
  },
  {
   "cell_type": "markdown",
   "id": "a1c82b12",
   "metadata": {},
   "source": [
    "![](r23.jpg)"
   ]
  },
  {
   "cell_type": "markdown",
   "id": "cd27142d",
   "metadata": {},
   "source": [
    "![](r22.jpg)"
   ]
  },
  {
   "cell_type": "markdown",
   "id": "d13b72bb",
   "metadata": {},
   "source": [
    "![](r21.jpg)"
   ]
  },
  {
   "cell_type": "markdown",
   "id": "f670d228",
   "metadata": {},
   "source": [
    "![](ar1.jpg)"
   ]
  },
  {
   "cell_type": "markdown",
   "id": "85e64980",
   "metadata": {},
   "source": [
    "![](ar3.jpg)"
   ]
  },
  {
   "cell_type": "markdown",
   "id": "243216ac",
   "metadata": {},
   "source": [
    "![](ar2.jpg)"
   ]
  },
  {
   "cell_type": "markdown",
   "id": "d44ed4cf",
   "metadata": {},
   "source": [
    "### By Nikhil Yadav"
   ]
  },
  {
   "cell_type": "code",
   "execution_count": null,
   "id": "0f13fa70",
   "metadata": {},
   "outputs": [],
   "source": []
  }
 ],
 "metadata": {
  "kernelspec": {
   "display_name": "Python 3",
   "language": "python",
   "name": "python3"
  },
  "language_info": {
   "codemirror_mode": {
    "name": "ipython",
    "version": 3
   },
   "file_extension": ".py",
   "mimetype": "text/x-python",
   "name": "python",
   "nbconvert_exporter": "python",
   "pygments_lexer": "ipython3",
   "version": "3.8.8"
  }
 },
 "nbformat": 4,
 "nbformat_minor": 5
}
